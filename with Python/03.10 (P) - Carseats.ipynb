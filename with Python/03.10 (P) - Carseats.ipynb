{
 "cells": [
  {
   "cell_type": "markdown",
   "metadata": {},
   "source": [
    "# Carseats\n",
    "_Ch 03 - Linear Regression  \n",
    "Q10 (applied)_"
   ]
  },
  {
   "cell_type": "markdown",
   "metadata": {},
   "source": [
    "__Description__  \n",
    "A simulated data set containing sales of child car seats at 400 different stores with 11 variables.\n",
    "\n",
    "__Source__  \n",
    "Simulated data.\n",
    "\n",
    "__References__  \n",
    "This dataset is a part of the course material of the [book](https://www.statlearning.com/) : ___Introduction to Statistical Learning with R___  "
   ]
  },
  {
   "cell_type": "markdown",
   "metadata": {},
   "source": [
    "__Short description of variables__  \n",
    "\n",
    "<b>Sales : </b>Unit sales (in thousands) at each location<br>\n",
    "<b>CompPrice : </b>Price charged by competitor at each location<br>\n",
    "<b>Income : </b>Community income level (in thousands of dollars)<br>\n",
    "<b>Advertising : </b>Local advertising budget for company at each location (in thousands of dollars)<br>\n",
    "<b>Population : </b>Population size in region (in thousands)<br>\n",
    "<b>Price : </b>Price company charges for car seats at each site<br>\n",
    "<b>ShelveLoc : </b>A factor with levels Bad, Good and Medium indicating the quality of the shelving location for the car seats at each site<br>\n",
    "<b>Age : </b>Average age of the local population<br>\n",
    "<b>Education : </b>Education level at each location<br>\n",
    "<b>Urban : </b>A factor with levels No and Yes to indicate whether the store is in an urban or rural location<br>\n",
    "<b>US : </b>A factor with levels No and Yes to indicate whether the store is in the US or not<br>"
   ]
  },
  {
   "cell_type": "markdown",
   "metadata": {},
   "source": [
    "<div align=\"center\"><b>------------------------------------------------------------------------------------------------------------------------------------------------------------------------------------------------</b></div>"
   ]
  },
  {
   "cell_type": "markdown",
   "metadata": {},
   "source": [
    "<a id='index'></a>\n",
    "## Index\n",
    "- [1) Load packages](#1%29-Load-packages)\n",
    "- [2) Import data](#2%29-Import-data)\n",
    "- [a) MLR : Sales ~ Price + Urban + US](#a%29-MLR-:-Sales-~-Price-+-Urban-+-US)\n",
    "- [b) Coefficient interpretation](#b%29-Coefficient-interpretation)\n",
    "- [c) Regression equation](#c%29-Regression-equation)\n",
    "- [d) Statistically significant predictors](#d%29-Statistically-significant-predictors)\n",
    "- [e) MLR with significant predictors](#e%29-MLR-with-significant-predictors)\n",
    "- [f) Comparing the models](#f%29-Comparing-the-models)\n",
    "- [g) Confidence intervals](#g%29-Confidence-intervals)\n",
    "- [h) Outliers or high leverage observations](#h%29-Outliers-or-high-leverage-observations)"
   ]
  },
  {
   "cell_type": "markdown",
   "metadata": {},
   "source": [
    "<div align=\"center\"><b>------------------------------------------------------------------------------------------------------------------------------------------------------------------------------------------------</b></div>"
   ]
  },
  {
   "cell_type": "markdown",
   "metadata": {},
   "source": [
    "### 1) Load packages"
   ]
  },
  {
   "cell_type": "code",
   "execution_count": 1,
   "metadata": {},
   "outputs": [],
   "source": [
    "import os\n",
    "import numpy as np\n",
    "import pandas as pd\n",
    "import matplotlib.pyplot as plt\n",
    "import seaborn as sns\n",
    "import statsmodels.formula.api as smf"
   ]
  },
  {
   "cell_type": "markdown",
   "metadata": {},
   "source": [
    "<b><i>Some preliminary workings</i></b>"
   ]
  },
  {
   "cell_type": "code",
   "execution_count": 2,
   "metadata": {},
   "outputs": [],
   "source": [
    "sns.set_style(rc={'axes.facecolor':'w', 'figure.facecolor':'w'})"
   ]
  },
  {
   "cell_type": "markdown",
   "metadata": {},
   "source": [
    "[go to toc](#index)"
   ]
  },
  {
   "cell_type": "markdown",
   "metadata": {},
   "source": [
    "<div align=\"center\"><b>------------------------------------------------------------------------------------------------------------------------------------------------------------------------------------------------</b></div>"
   ]
  },
  {
   "cell_type": "markdown",
   "metadata": {},
   "source": [
    "### 2) Import data"
   ]
  },
  {
   "cell_type": "code",
   "execution_count": 3,
   "metadata": {},
   "outputs": [],
   "source": [
    "fdir = r\"E:\\Data Science\\Statistics\\Intro to Statistical Learning with R\"\n",
    "fpath = os.path.join(fdir, 'datasets', 'Carseats.csv')"
   ]
  },
  {
   "cell_type": "code",
   "execution_count": 4,
   "metadata": {},
   "outputs": [
    {
     "name": "stdout",
     "output_type": "stream",
     "text": [
      "(400, 11)\n"
     ]
    },
    {
     "data": {
      "text/html": [
       "<div>\n",
       "<style scoped>\n",
       "    .dataframe tbody tr th:only-of-type {\n",
       "        vertical-align: middle;\n",
       "    }\n",
       "\n",
       "    .dataframe tbody tr th {\n",
       "        vertical-align: top;\n",
       "    }\n",
       "\n",
       "    .dataframe thead th {\n",
       "        text-align: right;\n",
       "    }\n",
       "</style>\n",
       "<table border=\"1\" class=\"dataframe\">\n",
       "  <thead>\n",
       "    <tr style=\"text-align: right;\">\n",
       "      <th></th>\n",
       "      <th>Sales</th>\n",
       "      <th>CompPrice</th>\n",
       "      <th>Income</th>\n",
       "      <th>Advertising</th>\n",
       "      <th>Population</th>\n",
       "      <th>Price</th>\n",
       "      <th>ShelveLoc</th>\n",
       "      <th>Age</th>\n",
       "      <th>Education</th>\n",
       "      <th>Urban</th>\n",
       "      <th>US</th>\n",
       "    </tr>\n",
       "  </thead>\n",
       "  <tbody>\n",
       "    <tr>\n",
       "      <th>0</th>\n",
       "      <td>9.50</td>\n",
       "      <td>138</td>\n",
       "      <td>73</td>\n",
       "      <td>11</td>\n",
       "      <td>276</td>\n",
       "      <td>120</td>\n",
       "      <td>Bad</td>\n",
       "      <td>42</td>\n",
       "      <td>17</td>\n",
       "      <td>Yes</td>\n",
       "      <td>Yes</td>\n",
       "    </tr>\n",
       "    <tr>\n",
       "      <th>1</th>\n",
       "      <td>11.22</td>\n",
       "      <td>111</td>\n",
       "      <td>48</td>\n",
       "      <td>16</td>\n",
       "      <td>260</td>\n",
       "      <td>83</td>\n",
       "      <td>Good</td>\n",
       "      <td>65</td>\n",
       "      <td>10</td>\n",
       "      <td>Yes</td>\n",
       "      <td>Yes</td>\n",
       "    </tr>\n",
       "    <tr>\n",
       "      <th>2</th>\n",
       "      <td>10.06</td>\n",
       "      <td>113</td>\n",
       "      <td>35</td>\n",
       "      <td>10</td>\n",
       "      <td>269</td>\n",
       "      <td>80</td>\n",
       "      <td>Medium</td>\n",
       "      <td>59</td>\n",
       "      <td>12</td>\n",
       "      <td>Yes</td>\n",
       "      <td>Yes</td>\n",
       "    </tr>\n",
       "  </tbody>\n",
       "</table>\n",
       "</div>"
      ],
      "text/plain": [
       "   Sales  CompPrice  Income  Advertising  Population  Price ShelveLoc  Age  \\\n",
       "0   9.50        138      73           11         276    120       Bad   42   \n",
       "1  11.22        111      48           16         260     83      Good   65   \n",
       "2  10.06        113      35           10         269     80    Medium   59   \n",
       "\n",
       "   Education Urban   US  \n",
       "0         17   Yes  Yes  \n",
       "1         10   Yes  Yes  \n",
       "2         12   Yes  Yes  "
      ]
     },
     "execution_count": 4,
     "metadata": {},
     "output_type": "execute_result"
    }
   ],
   "source": [
    "df = pd.read_csv(fpath)\n",
    "print(df.shape)\n",
    "df.head(3)"
   ]
  },
  {
   "cell_type": "markdown",
   "metadata": {},
   "source": [
    "#### Check for data integrity"
   ]
  },
  {
   "cell_type": "code",
   "execution_count": 5,
   "metadata": {},
   "outputs": [
    {
     "data": {
      "text/plain": [
       "False"
      ]
     },
     "execution_count": 5,
     "metadata": {},
     "output_type": "execute_result"
    }
   ],
   "source": [
    "# Check for missing values\n",
    "df.isna().any().any()"
   ]
  },
  {
   "cell_type": "code",
   "execution_count": 6,
   "metadata": {},
   "outputs": [
    {
     "name": "stdout",
     "output_type": "stream",
     "text": [
      "<class 'pandas.core.frame.DataFrame'>\n",
      "RangeIndex: 400 entries, 0 to 399\n",
      "Data columns (total 11 columns):\n",
      " #   Column       Non-Null Count  Dtype  \n",
      "---  ------       --------------  -----  \n",
      " 0   Sales        400 non-null    float64\n",
      " 1   CompPrice    400 non-null    int64  \n",
      " 2   Income       400 non-null    int64  \n",
      " 3   Advertising  400 non-null    int64  \n",
      " 4   Population   400 non-null    int64  \n",
      " 5   Price        400 non-null    int64  \n",
      " 6   ShelveLoc    400 non-null    object \n",
      " 7   Age          400 non-null    int64  \n",
      " 8   Education    400 non-null    int64  \n",
      " 9   Urban        400 non-null    object \n",
      " 10  US           400 non-null    object \n",
      "dtypes: float64(1), int64(7), object(3)\n",
      "memory usage: 34.5+ KB\n"
     ]
    }
   ],
   "source": [
    "# Check for consistency\n",
    "df.info()"
   ]
  },
  {
   "cell_type": "markdown",
   "metadata": {},
   "source": [
    "Numerical columns have been read as numeric and columns with strings have been read as 'object'. Prima facie, data seems consistent."
   ]
  },
  {
   "cell_type": "markdown",
   "metadata": {},
   "source": [
    "[go to toc](#index)"
   ]
  },
  {
   "cell_type": "markdown",
   "metadata": {},
   "source": [
    "<div align=\"center\"><b>------------------------------------------------------------------------------------------------------------------------------------------------------------------------------------------------</b></div>"
   ]
  },
  {
   "cell_type": "markdown",
   "metadata": {},
   "source": [
    "### a) MLR : Sales ~ Price + Urban + US\n",
    "Fit a multiple regression model to predict Sales using Price, Urban, and US."
   ]
  },
  {
   "cell_type": "markdown",
   "metadata": {},
   "source": [
    "<b><i>Cheking out the variables involved</i></b>"
   ]
  },
  {
   "cell_type": "code",
   "execution_count": 7,
   "metadata": {},
   "outputs": [
    {
     "data": {
      "image/png": "[encoded data removed]",
      "text/plain": [
       "<Figure size 432x288 with 1 Axes>"
      ]
     },
     "metadata": {},
     "output_type": "display_data"
    }
   ],
   "source": [
    "sns.histplot(df.Sales);"
   ]
  },
  {
   "cell_type": "code",
   "execution_count": 8,
   "metadata": {},
   "outputs": [
    {
     "data": {
      "text/plain": [
       "Yes    282\n",
       "No     118\n",
       "Name: Urban, dtype: int64"
      ]
     },
     "execution_count": 8,
     "metadata": {},
     "output_type": "execute_result"
    }
   ],
   "source": [
    "df.Urban.value_counts()"
   ]
  },
  {
   "cell_type": "code",
   "execution_count": 9,
   "metadata": {},
   "outputs": [
    {
     "data": {
      "text/plain": [
       "Yes    258\n",
       "No     142\n",
       "Name: US, dtype: int64"
      ]
     },
     "execution_count": 9,
     "metadata": {},
     "output_type": "execute_result"
    }
   ],
   "source": [
    "df.US.value_counts()"
   ]
  },
  {
   "cell_type": "code",
   "execution_count": 10,
   "metadata": {},
   "outputs": [
    {
     "data": {
      "image/png": "[encoded data removed]",
      "text/plain": [
       "<Figure size 720x288 with 2 Axes>"
      ]
     },
     "metadata": {},
     "output_type": "display_data"
    }
   ],
   "source": [
    "plt.gcf().set_size_inches(10,4)\n",
    "plt.subplot(121)\n",
    "sns.countplot(x=df.Urban)\n",
    "plt.subplot(122)\n",
    "sns.countplot(x=df.US);"
   ]
  },
  {
   "cell_type": "markdown",
   "metadata": {},
   "source": [
    "#### mreg1"
   ]
  },
  {
   "cell_type": "code",
   "execution_count": 11,
   "metadata": {},
   "outputs": [
    {
     "data": {
      "text/html": [
       "<table class=\"simpletable\">\n",
       "<caption>OLS Regression Results</caption>\n",
       "<tr>\n",
       "  <th>Dep. Variable:</th>          <td>Sales</td>      <th>  R-squared:         </th> <td>   0.239</td>\n",
       "</tr>\n",
       "<tr>\n",
       "  <th>Model:</th>                   <td>OLS</td>       <th>  Adj. R-squared:    </th> <td>   0.234</td>\n",
       "</tr>\n",
       "<tr>\n",
       "  <th>Method:</th>             <td>Least Squares</td>  <th>  F-statistic:       </th> <td>   41.52</td>\n",
       "</tr>\n",
       "<tr>\n",
       "  <th>Date:</th>             <td>Thu, 18 Mar 2021</td> <th>  Prob (F-statistic):</th> <td>2.39e-23</td>\n",
       "</tr>\n",
       "<tr>\n",
       "  <th>Time:</th>                 <td>11:10:28</td>     <th>  Log-Likelihood:    </th> <td> -927.66</td>\n",
       "</tr>\n",
       "<tr>\n",
       "  <th>No. Observations:</th>      <td>   400</td>      <th>  AIC:               </th> <td>   1863.</td>\n",
       "</tr>\n",
       "<tr>\n",
       "  <th>Df Residuals:</th>          <td>   396</td>      <th>  BIC:               </th> <td>   1879.</td>\n",
       "</tr>\n",
       "<tr>\n",
       "  <th>Df Model:</th>              <td>     3</td>      <th>                     </th>     <td> </td>   \n",
       "</tr>\n",
       "<tr>\n",
       "  <th>Covariance Type:</th>      <td>nonrobust</td>    <th>                     </th>     <td> </td>   \n",
       "</tr>\n",
       "</table>\n",
       "<table class=\"simpletable\">\n",
       "<tr>\n",
       "        <td></td>          <th>coef</th>     <th>std err</th>      <th>t</th>      <th>P>|t|</th>  <th>[0.025</th>    <th>0.975]</th>  \n",
       "</tr>\n",
       "<tr>\n",
       "  <th>Intercept</th>    <td>   13.0435</td> <td>    0.651</td> <td>   20.036</td> <td> 0.000</td> <td>   11.764</td> <td>   14.323</td>\n",
       "</tr>\n",
       "<tr>\n",
       "  <th>Urban[T.Yes]</th> <td>   -0.0219</td> <td>    0.272</td> <td>   -0.081</td> <td> 0.936</td> <td>   -0.556</td> <td>    0.512</td>\n",
       "</tr>\n",
       "<tr>\n",
       "  <th>US[T.Yes]</th>    <td>    1.2006</td> <td>    0.259</td> <td>    4.635</td> <td> 0.000</td> <td>    0.691</td> <td>    1.710</td>\n",
       "</tr>\n",
       "<tr>\n",
       "  <th>Price</th>        <td>   -0.0545</td> <td>    0.005</td> <td>  -10.389</td> <td> 0.000</td> <td>   -0.065</td> <td>   -0.044</td>\n",
       "</tr>\n",
       "</table>\n",
       "<table class=\"simpletable\">\n",
       "<tr>\n",
       "  <th>Omnibus:</th>       <td> 0.676</td> <th>  Durbin-Watson:     </th> <td>   1.912</td>\n",
       "</tr>\n",
       "<tr>\n",
       "  <th>Prob(Omnibus):</th> <td> 0.713</td> <th>  Jarque-Bera (JB):  </th> <td>   0.758</td>\n",
       "</tr>\n",
       "<tr>\n",
       "  <th>Skew:</th>          <td> 0.093</td> <th>  Prob(JB):          </th> <td>   0.684</td>\n",
       "</tr>\n",
       "<tr>\n",
       "  <th>Kurtosis:</th>      <td> 2.897</td> <th>  Cond. No.          </th> <td>    628.</td>\n",
       "</tr>\n",
       "</table><br/><br/>Notes:<br/>[1] Standard Errors assume that the covariance matrix of the errors is correctly specified."
      ],
      "text/plain": [
       "<class 'statsmodels.iolib.summary.Summary'>\n",
       "\"\"\"\n",
       "                            OLS Regression Results                            \n",
       "==============================================================================\n",
       "Dep. Variable:                  Sales   R-squared:                       0.239\n",
       "Model:                            OLS   Adj. R-squared:                  0.234\n",
       "Method:                 Least Squares   F-statistic:                     41.52\n",
       "Date:                Thu, 18 Mar 2021   Prob (F-statistic):           2.39e-23\n",
       "Time:                        11:10:28   Log-Likelihood:                -927.66\n",
       "No. Observations:                 400   AIC:                             1863.\n",
       "Df Residuals:                     396   BIC:                             1879.\n",
       "Df Model:                           3                                         \n",
       "Covariance Type:            nonrobust                                         \n",
       "================================================================================\n",
       "                   coef    std err          t      P>|t|      [0.025      0.975]\n",
       "--------------------------------------------------------------------------------\n",
       "Intercept       13.0435      0.651     20.036      0.000      11.764      14.323\n",
       "Urban[T.Yes]    -0.0219      0.272     -0.081      0.936      -0.556       0.512\n",
       "US[T.Yes]        1.2006      0.259      4.635      0.000       0.691       1.710\n",
       "Price           -0.0545      0.005    -10.389      0.000      -0.065      -0.044\n",
       "==============================================================================\n",
       "Omnibus:                        0.676   Durbin-Watson:                   1.912\n",
       "Prob(Omnibus):                  0.713   Jarque-Bera (JB):                0.758\n",
       "Skew:                           0.093   Prob(JB):                        0.684\n",
       "Kurtosis:                       2.897   Cond. No.                         628.\n",
       "==============================================================================\n",
       "\n",
       "Notes:\n",
       "[1] Standard Errors assume that the covariance matrix of the errors is correctly specified.\n",
       "\"\"\""
      ]
     },
     "execution_count": 11,
     "metadata": {},
     "output_type": "execute_result"
    }
   ],
   "source": [
    "# MLR\n",
    "mreg1 = smf.ols('Sales ~ Price + Urban + US', data=df).fit()\n",
    "mreg1.summary()"
   ]
  },
  {
   "cell_type": "markdown",
   "metadata": {},
   "source": [
    "[go to toc](#index)"
   ]
  },
  {
   "cell_type": "markdown",
   "metadata": {},
   "source": [
    "<div align=\"center\"><b>------------------------------------------------------------------------------------------------------------------------------------------------------------------------------------------------</b></div>"
   ]
  },
  {
   "cell_type": "markdown",
   "metadata": {},
   "source": [
    "### b) Coefficient interpretation\n",
    "Provide an interpretation of each coefficient in the model. \n",
    "Be careful, some of the variables in the model are qualitative!\n",
    "\n",
    "<b>Answer:</b><br>\n",
    "\n",
    "<b>Urban</b> = -0.0219<br>\n",
    "with a p-value of 0.936, the coefficient is not significant. We conclude that there is no statistical evidence that the location of store being urban has an effect on mean sales.<br>\n",
    "If the p-value had been below 0.05, the coefficient interpretation would be: If a store is located in an urban area, mean sales is estimated to be lower by 22 units after holding constant the effects of Price and US.\n",
    "\n",
    "<b>US</b> = 1.201<br>\n",
    "Holding constant the effects of Price and Urban, Sales of carseats in a US store are estimated to be higher by 1201 units on an average.<br>\n",
    "\n",
    "<b>Price</b> = -0.0545<br>\n",
    "USD 1 increase in price, (hoding constant the effect of Urban and US), is estimated to lead to 54 unit decrease in mean sales<br>"
   ]
  },
  {
   "cell_type": "markdown",
   "metadata": {},
   "source": [
    "[go to toc](#index)"
   ]
  },
  {
   "cell_type": "markdown",
   "metadata": {},
   "source": [
    "<div align=\"center\"><b>------------------------------------------------------------------------------------------------------------------------------------------------------------------------------------------------</b></div>"
   ]
  },
  {
   "cell_type": "markdown",
   "metadata": {},
   "source": [
    "### c) Regression equation\n",
    "Write out the model in equation form, being careful to handle the qualitative variables properly.\n",
    "\n",
    "<b>Answer:</b><br>\n",
    "\n",
    "$$\\hat{Sales} = \\beta_0 + \\beta_1 Urban + \\beta_2 US + \\beta_3 Price$$\n",
    "$$\\hat{Sales} = 13.0435 - 0.0219 \\cdot Urban + 1.2006 \\cdot US - 0.0545 \\cdot Price$$\n",
    "\n",
    "$$\n",
    "\\begin{align*} \n",
    "      Urban=1,\\ US=1\\ \\rightarrow\\ & 13.0435 - (0.0219 \\cdot 1) + (1.2006 \\cdot 1) - 0.0545 \\cdot Price\\ =\\ 14.2222 - 0.0545 \\cdot Price \\\\\n",
    "      Urban=1,\\ US=0\\ \\rightarrow\\ & 13.0435 - (0.0219 \\cdot 1) + (1.2006 \\cdot 0) - 0.0545 \\cdot Price\\ =\\ 13.0216 - 0.0545 \\cdot Price \\\\\n",
    "      Urban=0,\\ US=1\\ \\rightarrow\\ & 13.0435 - (0.0219 \\cdot 0) + (1.2006 \\cdot 1) - 0.0545 \\cdot Price\\ =\\ 14.2441 - 0.0545 \\cdot Price \\\\\n",
    "      Urban=0,\\ US=0\\ \\rightarrow\\ & 13.0435 - (0.0219 \\cdot 0) + (1.2006 \\cdot 0) - 0.0545 \\cdot Price\\ =\\ 13.0435 - 0.0545 \\cdot Price \\\\\n",
    "\\end{align*}\n",
    "$$"
   ]
  },
  {
   "cell_type": "markdown",
   "metadata": {},
   "source": [
    "[go to toc](#index)"
   ]
  },
  {
   "cell_type": "markdown",
   "metadata": {},
   "source": [
    "<div align=\"center\"><b>------------------------------------------------------------------------------------------------------------------------------------------------------------------------------------------------</b></div>"
   ]
  },
  {
   "cell_type": "markdown",
   "metadata": {},
   "source": [
    "### d) Statistically significant predictors\n",
    "For which of the predictors can you reject the null hypothesis $H_0 : \\beta_j = 0$ ?\n",
    "\n",
    "<b>Answer:</b><br>\n",
    "Presuming level of significance at 5%, $H_0 : \\beta_j = 0$ can be rejected for predictors that have a p-value < 0.05.<br>\n",
    "US and Price have p-values < 0.05."
   ]
  },
  {
   "cell_type": "markdown",
   "metadata": {},
   "source": [
    "[go to toc](#index)"
   ]
  },
  {
   "cell_type": "markdown",
   "metadata": {},
   "source": [
    "<div align=\"center\"><b>------------------------------------------------------------------------------------------------------------------------------------------------------------------------------------------------</b></div>"
   ]
  },
  {
   "cell_type": "markdown",
   "metadata": {},
   "source": [
    "### e) MLR with significant predictors\n",
    "On the basis of your response to the previous question, fit a smaller model that only uses the predictors for which there is evidence of association with the outcome."
   ]
  },
  {
   "cell_type": "code",
   "execution_count": 12,
   "metadata": {},
   "outputs": [
    {
     "data": {
      "text/html": [
       "<table class=\"simpletable\">\n",
       "<caption>OLS Regression Results</caption>\n",
       "<tr>\n",
       "  <th>Dep. Variable:</th>          <td>Sales</td>      <th>  R-squared:         </th> <td>   0.239</td>\n",
       "</tr>\n",
       "<tr>\n",
       "  <th>Model:</th>                   <td>OLS</td>       <th>  Adj. R-squared:    </th> <td>   0.235</td>\n",
       "</tr>\n",
       "<tr>\n",
       "  <th>Method:</th>             <td>Least Squares</td>  <th>  F-statistic:       </th> <td>   62.43</td>\n",
       "</tr>\n",
       "<tr>\n",
       "  <th>Date:</th>             <td>Thu, 18 Mar 2021</td> <th>  Prob (F-statistic):</th> <td>2.66e-24</td>\n",
       "</tr>\n",
       "<tr>\n",
       "  <th>Time:</th>                 <td>11:10:28</td>     <th>  Log-Likelihood:    </th> <td> -927.66</td>\n",
       "</tr>\n",
       "<tr>\n",
       "  <th>No. Observations:</th>      <td>   400</td>      <th>  AIC:               </th> <td>   1861.</td>\n",
       "</tr>\n",
       "<tr>\n",
       "  <th>Df Residuals:</th>          <td>   397</td>      <th>  BIC:               </th> <td>   1873.</td>\n",
       "</tr>\n",
       "<tr>\n",
       "  <th>Df Model:</th>              <td>     2</td>      <th>                     </th>     <td> </td>   \n",
       "</tr>\n",
       "<tr>\n",
       "  <th>Covariance Type:</th>      <td>nonrobust</td>    <th>                     </th>     <td> </td>   \n",
       "</tr>\n",
       "</table>\n",
       "<table class=\"simpletable\">\n",
       "<tr>\n",
       "      <td></td>         <th>coef</th>     <th>std err</th>      <th>t</th>      <th>P>|t|</th>  <th>[0.025</th>    <th>0.975]</th>  \n",
       "</tr>\n",
       "<tr>\n",
       "  <th>Intercept</th> <td>   13.0308</td> <td>    0.631</td> <td>   20.652</td> <td> 0.000</td> <td>   11.790</td> <td>   14.271</td>\n",
       "</tr>\n",
       "<tr>\n",
       "  <th>US[T.Yes]</th> <td>    1.1996</td> <td>    0.258</td> <td>    4.641</td> <td> 0.000</td> <td>    0.692</td> <td>    1.708</td>\n",
       "</tr>\n",
       "<tr>\n",
       "  <th>Price</th>     <td>   -0.0545</td> <td>    0.005</td> <td>  -10.416</td> <td> 0.000</td> <td>   -0.065</td> <td>   -0.044</td>\n",
       "</tr>\n",
       "</table>\n",
       "<table class=\"simpletable\">\n",
       "<tr>\n",
       "  <th>Omnibus:</th>       <td> 0.666</td> <th>  Durbin-Watson:     </th> <td>   1.912</td>\n",
       "</tr>\n",
       "<tr>\n",
       "  <th>Prob(Omnibus):</th> <td> 0.717</td> <th>  Jarque-Bera (JB):  </th> <td>   0.749</td>\n",
       "</tr>\n",
       "<tr>\n",
       "  <th>Skew:</th>          <td> 0.092</td> <th>  Prob(JB):          </th> <td>   0.688</td>\n",
       "</tr>\n",
       "<tr>\n",
       "  <th>Kurtosis:</th>      <td> 2.895</td> <th>  Cond. No.          </th> <td>    607.</td>\n",
       "</tr>\n",
       "</table><br/><br/>Notes:<br/>[1] Standard Errors assume that the covariance matrix of the errors is correctly specified."
      ],
      "text/plain": [
       "<class 'statsmodels.iolib.summary.Summary'>\n",
       "\"\"\"\n",
       "                            OLS Regression Results                            \n",
       "==============================================================================\n",
       "Dep. Variable:                  Sales   R-squared:                       0.239\n",
       "Model:                            OLS   Adj. R-squared:                  0.235\n",
       "Method:                 Least Squares   F-statistic:                     62.43\n",
       "Date:                Thu, 18 Mar 2021   Prob (F-statistic):           2.66e-24\n",
       "Time:                        11:10:28   Log-Likelihood:                -927.66\n",
       "No. Observations:                 400   AIC:                             1861.\n",
       "Df Residuals:                     397   BIC:                             1873.\n",
       "Df Model:                           2                                         \n",
       "Covariance Type:            nonrobust                                         \n",
       "==============================================================================\n",
       "                 coef    std err          t      P>|t|      [0.025      0.975]\n",
       "------------------------------------------------------------------------------\n",
       "Intercept     13.0308      0.631     20.652      0.000      11.790      14.271\n",
       "US[T.Yes]      1.1996      0.258      4.641      0.000       0.692       1.708\n",
       "Price         -0.0545      0.005    -10.416      0.000      -0.065      -0.044\n",
       "==============================================================================\n",
       "Omnibus:                        0.666   Durbin-Watson:                   1.912\n",
       "Prob(Omnibus):                  0.717   Jarque-Bera (JB):                0.749\n",
       "Skew:                           0.092   Prob(JB):                        0.688\n",
       "Kurtosis:                       2.895   Cond. No.                         607.\n",
       "==============================================================================\n",
       "\n",
       "Notes:\n",
       "[1] Standard Errors assume that the covariance matrix of the errors is correctly specified.\n",
       "\"\"\""
      ]
     },
     "execution_count": 12,
     "metadata": {},
     "output_type": "execute_result"
    }
   ],
   "source": [
    "mreg2 = smf.ols('Sales ~ Price + US', data=df).fit()\n",
    "mreg2.summary()"
   ]
  },
  {
   "cell_type": "markdown",
   "metadata": {},
   "source": [
    "[go to toc](#index)"
   ]
  },
  {
   "cell_type": "markdown",
   "metadata": {},
   "source": [
    "<div align=\"center\"><b>------------------------------------------------------------------------------------------------------------------------------------------------------------------------------------------------</b></div>"
   ]
  },
  {
   "cell_type": "markdown",
   "metadata": {},
   "source": [
    "### f) Comparing the models\n",
    "How well do the models in (a) and (e) fit the data?\n",
    "\n",
    "<b>Answer:</b><br>\n",
    "$R^2$ statistic, the coefficient of determination, is a measure of the variance in response that can be associated with the variance in the predictors in the model. $Adj.\\ R^2$ ($\\bar{R}^2$) statistic averages the $R^2$ score over the no. of predictors used in the model.<br>\n",
    "\n",
    "The $R^2$ statistic (0.239) for both models is equivalent. The $\\bar{R}^2$ statistic for the second model (0.235) is marginally higher than first's (0.234).<br>\n",
    "Considering that the second model is more simple as it has fewer predictors and manages to yield an equivalent $R^2$ score, it is considered to be a better fit to the data. Although, both models have very low $R^2$ values and are inadequate."
   ]
  },
  {
   "cell_type": "code",
   "execution_count": 13,
   "metadata": {},
   "outputs": [
    {
     "data": {
      "text/plain": [
       "(0.23927539218405525, 0.23351232697332835)"
      ]
     },
     "execution_count": 13,
     "metadata": {},
     "output_type": "execute_result"
    }
   ],
   "source": [
    "mreg1.rsquared, mreg1.rsquared_adj"
   ]
  },
  {
   "cell_type": "code",
   "execution_count": 14,
   "metadata": {},
   "outputs": [
    {
     "data": {
      "text/plain": [
       "(0.23926288842678567, 0.23543045965311715)"
      ]
     },
     "execution_count": 14,
     "metadata": {},
     "output_type": "execute_result"
    }
   ],
   "source": [
    "mreg2.rsquared, mreg2.rsquared_adj"
   ]
  },
  {
   "cell_type": "markdown",
   "metadata": {},
   "source": [
    "[go to toc](#index)"
   ]
  },
  {
   "cell_type": "markdown",
   "metadata": {},
   "source": [
    "<div align=\"center\"><b>------------------------------------------------------------------------------------------------------------------------------------------------------------------------------------------------</b></div>"
   ]
  },
  {
   "cell_type": "markdown",
   "metadata": {},
   "source": [
    "### g) Confidence intervals\n",
    "Using the model from (e), obtain 95 % confidence intervals for the coefficient(s)."
   ]
  },
  {
   "cell_type": "code",
   "execution_count": 15,
   "metadata": {},
   "outputs": [
    {
     "data": {
      "text/html": [
       "<div>\n",
       "<style scoped>\n",
       "    .dataframe tbody tr th:only-of-type {\n",
       "        vertical-align: middle;\n",
       "    }\n",
       "\n",
       "    .dataframe tbody tr th {\n",
       "        vertical-align: top;\n",
       "    }\n",
       "\n",
       "    .dataframe thead th {\n",
       "        text-align: right;\n",
       "    }\n",
       "</style>\n",
       "<table border=\"1\" class=\"dataframe\">\n",
       "  <thead>\n",
       "    <tr style=\"text-align: right;\">\n",
       "      <th></th>\n",
       "      <th>lwr</th>\n",
       "      <th>upr</th>\n",
       "    </tr>\n",
       "  </thead>\n",
       "  <tbody>\n",
       "    <tr>\n",
       "      <th>Intercept</th>\n",
       "      <td>11.79032</td>\n",
       "      <td>14.271265</td>\n",
       "    </tr>\n",
       "    <tr>\n",
       "      <th>US[T.Yes]</th>\n",
       "      <td>0.69152</td>\n",
       "      <td>1.707766</td>\n",
       "    </tr>\n",
       "    <tr>\n",
       "      <th>Price</th>\n",
       "      <td>-0.06476</td>\n",
       "      <td>-0.044195</td>\n",
       "    </tr>\n",
       "  </tbody>\n",
       "</table>\n",
       "</div>"
      ],
      "text/plain": [
       "                lwr        upr\n",
       "Intercept  11.79032  14.271265\n",
       "US[T.Yes]   0.69152   1.707766\n",
       "Price      -0.06476  -0.044195"
      ]
     },
     "execution_count": 15,
     "metadata": {},
     "output_type": "execute_result"
    }
   ],
   "source": [
    "mreg2.conf_int(alpha=0.05).rename(index=str, columns={0: \"lwr\", 1: \"upr\",})"
   ]
  },
  {
   "cell_type": "markdown",
   "metadata": {},
   "source": [
    "The formula for calculation of confidence interval for the coefficient :\n",
    "$$\\hat{\\beta}_i\\ \\pm\\ t_{n-2}\\ (0.975) \\cdot SE(\\hat{\\beta}_i)$$\n",
    "\n",
    "where,\n",
    "$$\n",
    "SE\\left(\\hat{\\beta}_{0}\\right)^{2}=\\sigma^{2}\\left[\\frac{1}{n}+\\frac{\\bar{x}^{2}}{\\sum_{i=1}^{n}\\left(x_{i}-\\bar{x}\\right)^{2}}\\right], \\quad SE\\left(\\hat{\\beta}_{1}\\right)^{2}=\\frac{\\sigma^{2}}{\\sum_{i=1}^{n}\\left(x_{i}-\\bar{x}\\right)^{2}}\n",
    "$$\n",
    "where $\\sigma^{2} = Var(\\epsilon)$"
   ]
  },
  {
   "cell_type": "code",
   "execution_count": 16,
   "metadata": {},
   "outputs": [
    {
     "data": {
      "text/plain": [
       "-1.965942323976193"
      ]
     },
     "execution_count": 16,
     "metadata": {},
     "output_type": "execute_result"
    }
   ],
   "source": [
    "# Critical value of t at alpha/2\n",
    "from scipy.stats import t as tdist\n",
    "tdist.ppf(0.025, 398)"
   ]
  },
  {
   "cell_type": "code",
   "execution_count": 17,
   "metadata": {},
   "outputs": [
    {
     "data": {
      "text/html": [
       "<div>\n",
       "<style scoped>\n",
       "    .dataframe tbody tr th:only-of-type {\n",
       "        vertical-align: middle;\n",
       "    }\n",
       "\n",
       "    .dataframe tbody tr th {\n",
       "        vertical-align: top;\n",
       "    }\n",
       "\n",
       "    .dataframe thead th {\n",
       "        text-align: right;\n",
       "    }\n",
       "</style>\n",
       "<table border=\"1\" class=\"dataframe\">\n",
       "  <thead>\n",
       "    <tr style=\"text-align: right;\">\n",
       "      <th></th>\n",
       "      <th>lwr</th>\n",
       "      <th>upr</th>\n",
       "    </tr>\n",
       "  </thead>\n",
       "  <tbody>\n",
       "    <tr>\n",
       "      <th>Intercept</th>\n",
       "      <td>11.790330</td>\n",
       "      <td>14.271256</td>\n",
       "    </tr>\n",
       "    <tr>\n",
       "      <th>US[T.Yes]</th>\n",
       "      <td>0.691523</td>\n",
       "      <td>1.707762</td>\n",
       "    </tr>\n",
       "    <tr>\n",
       "      <th>Price</th>\n",
       "      <td>-0.064760</td>\n",
       "      <td>-0.044196</td>\n",
       "    </tr>\n",
       "  </tbody>\n",
       "</table>\n",
       "</div>"
      ],
      "text/plain": [
       "                 lwr        upr\n",
       "Intercept  11.790330  14.271256\n",
       "US[T.Yes]   0.691523   1.707762\n",
       "Price      -0.064760  -0.044196"
      ]
     },
     "execution_count": 17,
     "metadata": {},
     "output_type": "execute_result"
    }
   ],
   "source": [
    "# Confidence interval calculation\n",
    "pd.concat([mreg2.params - tdist.ppf(0.975, 398)*mreg2.bse, \n",
    "           mreg2.params + tdist.ppf(0.975, 398)*mreg2.bse], axis=1, keys=['lwr','upr'])"
   ]
  },
  {
   "cell_type": "markdown",
   "metadata": {},
   "source": [
    "[go to toc](#index)"
   ]
  },
  {
   "cell_type": "markdown",
   "metadata": {},
   "source": [
    "<div align=\"center\"><b>------------------------------------------------------------------------------------------------------------------------------------------------------------------------------------------------</b></div>"
   ]
  },
  {
   "cell_type": "markdown",
   "metadata": {},
   "source": [
    "### h) Outliers or high leverage observations\n",
    "Is there evidence of outliers or high leverage observations in the model from (e)?\n",
    "\n",
    "<b>Answer:</b><br>\n",
    "\n",
    "<b>Outliers</b><br>\n",
    "Outliers can be identified using Externally Studentized Residuals. An observation with an esr &gt; 3 in absolute value can be considered an outlier.<br>\n",
    "\n",
    "<b>Leverage</b><br>\n",
    "Observations with  $ℎ_{𝑖𝑖}  > 3p/n$ can be considered as having high leverage.<br>\n",
    "\n",
    "<b>Influential points</b><br>\n",
    "Cook's distance can help us identify observations that are <b>highly influential</b>. \n",
    "Any observation with a CD $\\ge$ 1, or a CD substantially larger than others (highly influential data points), requires investigation. A more conservative threshold for flagging observations for examination :\n",
    "$CooksD \\ \\ge \\frac{4}{N} \\ or \\ \\frac{4}{N−k−1}$ "
   ]
  },
  {
   "cell_type": "markdown",
   "metadata": {},
   "source": [
    "##### Function to plot Externally Studentized Residuals vs Fitted Values"
   ]
  },
  {
   "cell_type": "code",
   "execution_count": 18,
   "metadata": {},
   "outputs": [],
   "source": [
    "# Function to plot Externally Studentized Residuals vs Fitted Values\n",
    "def esr_plot(fitted_model, plot_dim=(6,4)):\n",
    "    y_pred = fitted_model.fittedvalues\n",
    "    ext_std_resids = pd.Series(fitted_model.get_influence().resid_studentized_external)\n",
    "    ext_std_resids.index = y_pred.index\n",
    "    \n",
    "    f, axs = plt.subplots(1,1, figsize=plot_dim)\n",
    "    axs.scatter(x=y_pred, y=ext_std_resids, alpha=1, s=15, facecolor='none', \n",
    "                     edgecolor='steelblue')\n",
    "    axs.axhline(y=0, color='k', ls='--', lw=0.3)\n",
    "    for i in [-3, 3]:\n",
    "        axs.axhline(y=i, color='r', ls='--', lw=0.5)\n",
    "    xmin, xmax = axs.get_xlim()\n",
    "    axs.set_xlim(xmin-((xmax-xmin)/10), xmax+(xmax-xmin)/10)\n",
    "    axs.set_ylabel('Residuals')\n",
    "    axs.set_xlabel('Fitted Values')\n",
    "    for i in ext_std_resids.index[abs(ext_std_resids) > 3]:\n",
    "        axs.annotate(i, xy=(y_pred[i], ext_std_resids[i]), fontsize=8)\n",
    "    axs.set_title(\"Externally Studentized Residual v Fitted Values\")\n",
    "    axs.set_xlabel('Fitted Values')\n",
    "    axs.set_ylabel('Externally Studentized Residuals')"
   ]
  },
  {
   "cell_type": "markdown",
   "metadata": {},
   "source": [
    "##### Function to plot Externally Studentized Residuals vs Fitted Values"
   ]
  },
  {
   "cell_type": "code",
   "execution_count": 19,
   "metadata": {},
   "outputs": [],
   "source": [
    "def lev_plot(fitted_model, plot_dim=(6,4), mark_cd=False):\n",
    "    y_pred = fitted_model.fittedvalues\n",
    "    lev = pd.Series(fitted_model.get_influence().hat_matrix_diag, index=y_pred.index)\n",
    "    ext_std_resids = pd.Series(fitted_model.get_influence().resid_studentized_external,\n",
    "                               index=y_pred.index)\n",
    "    cooks_d = pd.Series(fitted_model.get_influence().cooks_distance[0], index=y_pred.index)\n",
    "    \n",
    "    f, axs = plt.subplots(1,1, figsize=plot_dim)\n",
    "    axs.scatter(x=lev, y=ext_std_resids, alpha=1, s=15, facecolor='none', \n",
    "                     edgecolor='steelblue')\n",
    "    axs.axvline(x=3*(fitted_model.df_model+1)/(fitted_model.df_resid+fitted_model.df_model+1),\n",
    "                     color='grey', ls='--', lw=0.5)   # 3p/n\n",
    "    sns.regplot(ax=axs, x=lev, y=ext_std_resids, scatter=False, ci=False, lowess=True,\n",
    "                line_kws={'color':'r', 'lw':0.5})\n",
    "    axs.set_title('Externally Studentized Residuals v Leverage')\n",
    "    axs.set_ylabel('Externally Studentized Residuals')\n",
    "    axs.set_xlabel('Leverage')\n",
    "    xmin, xmax = axs.get_xlim()\n",
    "    axs.set_xlim(-0.001, xmax*1.05)\n",
    "    if mark_cd:\n",
    "        top_cd = cooks_d.sort_values(ascending=False)[:3]\n",
    "        for i in top_cd.index:\n",
    "            axs.annotate(i, xy=(lev[i], ext_std_resids[i]), fontsize=9)\n",
    "        notable_cd = cooks_d[cooks_d > 0.5]\n",
    "        for i in notable_cd.index:\n",
    "            if cooks_d[i] > 1:\n",
    "                axs.annotate(i, xy=(lev[i], ext_std_resids[i]), fontsize=9, color='r')\n",
    "            else:\n",
    "                axs.annotate(i, xy=(lev[i], ext_std_resids[i]), fontsize=9, color='blue')\n",
    "    else:\n",
    "        top_lev = lev.sort_values(ascending=False)[:3]\n",
    "        for i in top_lev.index:\n",
    "            axs.annotate(i, xy=(lev[i], ext_std_resids[i]), fontsize=9)\n",
    "        notable_lev = lev[lev > 3*(fitted_model.df_model+1)/fitted_model.resid.shape[0]]\n",
    "        for i in notable_lev.index:\n",
    "            if cooks_d[i] > 1:\n",
    "                axs.annotate(i, xy=(lev[i], ext_std_resids[i]), fontsize=9, color='r')\n",
    "            else:\n",
    "                axs.annotate(i, xy=(lev[i], ext_std_resids[i]), fontsize=9)"
   ]
  },
  {
   "cell_type": "markdown",
   "metadata": {},
   "source": [
    "##### Function to create influence plots"
   ]
  },
  {
   "cell_type": "code",
   "execution_count": 20,
   "metadata": {},
   "outputs": [],
   "source": [
    "# Function to create influence plots\n",
    "def influence_diagnostic_plots(fitted_model):\n",
    "    y_pred = fitted_model.fittedvalues\n",
    "    lev = pd.Series(fitted_model.get_influence().hat_matrix_diag, index=y_pred.index)\n",
    "    ext_std_resids = pd.Series(fitted_model.get_influence().resid_studentized_external,\n",
    "                               index=y_pred.index)\n",
    "    cooks_d = pd.Series(fitted_model.get_influence().cooks_distance[0], index=y_pred.index)\n",
    "    \n",
    "    cooks_th = 4/fitted_model.df_resid\n",
    "    gt_cooks_th = cooks_d > cooks_th\n",
    "    lev_th = 3*(fitted_model.df_model+1) / (fitted_model.df_resid+fitted_model.df_model+1)\n",
    "\n",
    "    f, axs = plt.subplots(1,2, figsize=(15,4))\n",
    "    sns.scatterplot(x=lev, y=ext_std_resids, hue=gt_cooks_th, ax=axs[0],\n",
    "                    palette=['steelblue','green'], legend=False)\n",
    "    axs[0].set_title(\"Externally Studentized Residual v Leverage\")\n",
    "    axs[0].set_xlabel('Leverage')\n",
    "    axs[0].set_ylabel('Externally Studentized Residuals')\n",
    "\n",
    "    sns.scatterplot(x=lev, y=cooks_d, hue=gt_cooks_th, ax=axs[1],\n",
    "                    palette=['steelblue','green'], legend=False)\n",
    "    plt.axhline(y = cooks_th, color='grey', ls='--', lw=0.5)\n",
    "    plt.axvline(x = lev_th, color='grey', ls='--', lw=0.5)\n",
    "    marked = [i for i in y_pred.index if (lev[i] >= lev_th) and (cooks_d[i] >= cooks_th)]\n",
    "    for i in marked:\n",
    "        plt.annotate(i, xy=(lev[i], cooks_d[i]), fontsize=10)\n",
    "    axs[1].set_title(\"Cook's Distance v Leverage\")\n",
    "    axs[1].set_xlabel('Leverage')\n",
    "    axs[1].set_ylabel(\"Cook's Distance\")"
   ]
  },
  {
   "cell_type": "markdown",
   "metadata": {},
   "source": [
    "#### Plots"
   ]
  },
  {
   "cell_type": "code",
   "execution_count": 21,
   "metadata": {},
   "outputs": [
    {
     "data": {
      "image/png": "[encoded data removed]",
      "text/plain": [
       "<Figure size 432x288 with 1 Axes>"
      ]
     },
     "metadata": {},
     "output_type": "display_data"
    }
   ],
   "source": [
    "esr_plot(mreg2);"
   ]
  },
  {
   "cell_type": "markdown",
   "metadata": {},
   "source": [
    "<div class=\"alert alert-block alert-info\">\n",
    "None of the externally studentized residuals goes beyond the limit of $\\pm$ 3 , although a few come close. Prima facie, there are no outliers.\n",
    "</div>"
   ]
  },
  {
   "cell_type": "code",
   "execution_count": 22,
   "metadata": {},
   "outputs": [
    {
     "data": {
      "image/png": "[encoded data removed]",
      "text/plain": [
       "<Figure size 432x288 with 1 Axes>"
      ]
     },
     "metadata": {},
     "output_type": "display_data"
    }
   ],
   "source": [
    "lev_plot(mreg2)"
   ]
  },
  {
   "cell_type": "markdown",
   "metadata": {},
   "source": [
    "<div class=\"alert alert-block alert-info\">\n",
    "The average leverage for all the observations is always equal to (p + 1)/n. So if a given observation has a leverage statistic that greatly exceeds (p+1)/n, then we may suspect that the corresponding\n",
    "point has high leverage.<br>\n",
    "    \n",
    "One of 'rule-of-thumb' thresholds for flagging high leverage points is 3p/n.\n",
    "In the case of the current model, that computes to  \n",
    "3(2+1)/400 = 0.0225.<br>\n",
    "The grey line on the above plot represents that threshold. There are 6 points that have $h_{ii}$ values > 0.0225, but none of them have a cook's distance value > 1.\n",
    "</div>"
   ]
  },
  {
   "cell_type": "code",
   "execution_count": 23,
   "metadata": {},
   "outputs": [
    {
     "data": {
      "image/png": "[encoded data removed]",
      "text/plain": [
       "<Figure size 1080x288 with 2 Axes>"
      ]
     },
     "metadata": {},
     "output_type": "display_data"
    }
   ],
   "source": [
    "influence_diagnostic_plots(mreg2)"
   ]
  },
  {
   "cell_type": "markdown",
   "metadata": {},
   "source": [
    "<div class=\"alert alert-block alert-info\">\n",
    "Observations with Cook's distance > 1 are likely highly influential observations. A more conservative threshold in case of smaller datasets is 4/(N-k-1) which in the case of the current model computes to 4/(400-2-1) = 0.0101. This threshold has been plotted as a grey horizontal line in the right plot above.<br>\n",
    "\n",
    "In the plots above, the observations with CD > 0.0101 are colored green.<br>\n",
    "\n",
    "There are 3 observations that have a large hii value as well as a large CD value and are potentially highly influential for the model. They have been numbered in the right plot above.\n",
    "</div>"
   ]
  },
  {
   "cell_type": "markdown",
   "metadata": {},
   "source": [
    "[go to toc](#index)"
   ]
  },
  {
   "cell_type": "markdown",
   "metadata": {},
   "source": [
    "<div align=\"center\"><b>------------------------------------------------------------------------------------------------------------------------------------------------------------------------------------------------</b></div>"
   ]
  },
  {
   "cell_type": "markdown",
   "metadata": {},
   "source": [
    "### References"
   ]
  },
  {
   "cell_type": "markdown",
   "metadata": {},
   "source": [
    "https://www.kaggle.com/lmorgan95/notebooks  \n",
    "https://botlnec.github.io/islp/  \n",
    "https://github.com/a-martyn/ISL-python  \n",
    "https://onmee.github.io/ISLR-Solutions/  \n",
    "https://github.com/emredjan/ISL-python  "
   ]
  },
  {
   "cell_type": "markdown",
   "metadata": {},
   "source": [
    "<div align=\"center\"><b>-------------------------------------------- &ensp; <i>That's All Folks!</i> &ensp; --------------------------------------------</b></div>"
   ]
  }
 ],
 "metadata": {
  "kernelspec": {
   "display_name": "Python 3",
   "language": "python",
   "name": "python3"
  },
  "language_info": {
   "codemirror_mode": {
    "name": "ipython",
    "version": 3
   },
   "file_extension": ".py",
   "mimetype": "text/x-python",
   "name": "python",
   "nbconvert_exporter": "python",
   "pygments_lexer": "ipython3",
   "version": "3.8.5"
  },
  "toc": {
   "base_numbering": 1,
   "nav_menu": {},
   "number_sections": false,
   "sideBar": true,
   "skip_h1_title": true,
   "title_cell": "Table of Contents",
   "title_sidebar": "Contents",
   "toc_cell": false,
   "toc_position": {},
   "toc_section_display": true,
   "toc_window_display": true
  }
 },
 "nbformat": 4,
 "nbformat_minor": 4
}
