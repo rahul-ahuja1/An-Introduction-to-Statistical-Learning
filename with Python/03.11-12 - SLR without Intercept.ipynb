{
 "cells": [
  {
   "cell_type": "markdown",
   "metadata": {},
   "source": [
    "# Q11 & Q12 - SLR without Intercept\n",
    "_Ch 03 - Linear Regression  \n",
    "Q11 , Q12 (applied)_\n",
    "\n",
    "Simple linear regression without an intercept."
   ]
  },
  {
   "cell_type": "markdown",
   "metadata": {},
   "source": [
    "<a id='index'></a>\n",
    "### Index\n",
    "- [Load packages](#Load-packages)\n",
    "- [Q11](#Q11)\n",
    "    - [Simulate data](#Simulate-data)\n",
    "    - [a) y ~ x, SLR without intercept](#a%29-y-~-x,-SLR-without-intercept)\n",
    "    - [b) x ~ y, SLR without intercept](#b%29-x-~-y,-SLR-without-intercept)\n",
    "    - [c) Relation between a and b](#c%29-Relation-between-a-and-b)\n",
    "    - [d) t statistic for y ~ x + 0](#d%29-t-statistic-for-y-~-x-+-0)\n",
    "    - [e) t-statistic equality in reverse regression](#e%29-t-statistic-equality-in-reverse-regression)\n",
    "    - [f) t-statistic for models with intercepts](#f%29-t-statistic-for-models-with-intercepts)\n",
    "- [Q12](#Q12)\n",
    "    - [a) Circumstances for equal coefficients in reverse regression](#a%29-Circumstances-for-equal-coefficients-in-reverse-regression)\n",
    "    - [b) Simulate data where coefficient of reverse regression is not equal](#b%29-Simulate-data-where-coefficient-of-reverse-regression-is-not-equal)\n",
    "    - [c) Simulate data where coefficient of reverse regression is equal](#c%29-Simulate-data-where-coefficient-of-reverse-regression-is-equal)"
   ]
  },
  {
   "cell_type": "markdown",
   "metadata": {},
   "source": [
    "<div align=\"center\"><b>------------------------------------------------------------------------------------------------------------------------------------------------------------------------------------------------</b></div>"
   ]
  },
  {
   "cell_type": "markdown",
   "metadata": {},
   "source": [
    "### Load packages"
   ]
  },
  {
   "cell_type": "code",
   "execution_count": 1,
   "metadata": {},
   "outputs": [],
   "source": [
    "import numpy as np\n",
    "import pandas as pd\n",
    "import matplotlib.pyplot as plt\n",
    "import seaborn as sns\n",
    "import statsmodels.formula.api as smf"
   ]
  },
  {
   "cell_type": "code",
   "execution_count": 2,
   "metadata": {},
   "outputs": [],
   "source": [
    "sns.set_style(rc={'axes_facecolor':'w', 'figure.facecolor':'w'})"
   ]
  },
  {
   "cell_type": "markdown",
   "metadata": {},
   "source": [
    "<div align=\"center\"><b>------------------------------------------------------------------------------------------------------------------------------------------------------------------------------------------------</b></div>"
   ]
  },
  {
   "cell_type": "markdown",
   "metadata": {},
   "source": [
    "## Q11"
   ]
  },
  {
   "cell_type": "markdown",
   "metadata": {},
   "source": [
    "### Simulate data\n",
    "To begin, we generate a predictor x and a response y as follows."
   ]
  },
  {
   "cell_type": "code",
   "execution_count": 3,
   "metadata": {},
   "outputs": [],
   "source": [
    "np.random.seed(1)\n",
    "x = np.random.normal(size=100)\n",
    "y = 2*x + np.random.normal(size=100)"
   ]
  },
  {
   "cell_type": "code",
   "execution_count": 4,
   "metadata": {},
   "outputs": [
    {
     "data": {
      "image/png": "[encoded data removed]",
      "text/plain": [
       "<Figure size 432x288 with 1 Axes>"
      ]
     },
     "metadata": {},
     "output_type": "display_data"
    }
   ],
   "source": [
    "df = pd.DataFrame({'x':x, 'y':y})\n",
    "sns.regplot(x='x', y='y', data=df);"
   ]
  },
  {
   "cell_type": "markdown",
   "metadata": {},
   "source": [
    "<div align=\"center\"><b>------------------------------------------------------------------------------------------------------------------------------------------------------------------------------------------------</b></div>"
   ]
  },
  {
   "cell_type": "markdown",
   "metadata": {},
   "source": [
    "### a) y ~ x, SLR without intercept\n",
    "Perform a simple linear regression of y onto x, without an intercept. \n",
    "Report the coefficient estimate $\\hat{\\beta}$, the standard error of this coefficient estimate, and the t-statistic and p-value associated with the null hypothesis $H_0 : \\beta = 0$. Comment on these results."
   ]
  },
  {
   "cell_type": "code",
   "execution_count": 5,
   "metadata": {},
   "outputs": [
    {
     "data": {
      "text/html": [
       "<table class=\"simpletable\">\n",
       "<caption>OLS Regression Results</caption>\n",
       "<tr>\n",
       "  <th>Dep. Variable:</th>            <td>y</td>        <th>  R-squared (uncentered):</th>      <td>   0.798</td>\n",
       "</tr>\n",
       "<tr>\n",
       "  <th>Model:</th>                   <td>OLS</td>       <th>  Adj. R-squared (uncentered):</th> <td>   0.796</td>\n",
       "</tr>\n",
       "<tr>\n",
       "  <th>Method:</th>             <td>Least Squares</td>  <th>  F-statistic:       </th>          <td>   391.7</td>\n",
       "</tr>\n",
       "<tr>\n",
       "  <th>Date:</th>             <td>Fri, 19 Mar 2021</td> <th>  Prob (F-statistic):</th>          <td>3.46e-36</td>\n",
       "</tr>\n",
       "<tr>\n",
       "  <th>Time:</th>                 <td>05:16:22</td>     <th>  Log-Likelihood:    </th>          <td> -135.67</td>\n",
       "</tr>\n",
       "<tr>\n",
       "  <th>No. Observations:</th>      <td>   100</td>      <th>  AIC:               </th>          <td>   273.3</td>\n",
       "</tr>\n",
       "<tr>\n",
       "  <th>Df Residuals:</th>          <td>    99</td>      <th>  BIC:               </th>          <td>   275.9</td>\n",
       "</tr>\n",
       "<tr>\n",
       "  <th>Df Model:</th>              <td>     1</td>      <th>                     </th>              <td> </td>   \n",
       "</tr>\n",
       "<tr>\n",
       "  <th>Covariance Type:</th>      <td>nonrobust</td>    <th>                     </th>              <td> </td>   \n",
       "</tr>\n",
       "</table>\n",
       "<table class=\"simpletable\">\n",
       "<tr>\n",
       "  <td></td>     <th>coef</th>     <th>std err</th>      <th>t</th>      <th>P>|t|</th>  <th>[0.025</th>    <th>0.975]</th>  \n",
       "</tr>\n",
       "<tr>\n",
       "  <th>x</th> <td>    2.1067</td> <td>    0.106</td> <td>   19.792</td> <td> 0.000</td> <td>    1.896</td> <td>    2.318</td>\n",
       "</tr>\n",
       "</table>\n",
       "<table class=\"simpletable\">\n",
       "<tr>\n",
       "  <th>Omnibus:</th>       <td> 0.880</td> <th>  Durbin-Watson:     </th> <td>   2.106</td>\n",
       "</tr>\n",
       "<tr>\n",
       "  <th>Prob(Omnibus):</th> <td> 0.644</td> <th>  Jarque-Bera (JB):  </th> <td>   0.554</td>\n",
       "</tr>\n",
       "<tr>\n",
       "  <th>Skew:</th>          <td>-0.172</td> <th>  Prob(JB):          </th> <td>   0.758</td>\n",
       "</tr>\n",
       "<tr>\n",
       "  <th>Kurtosis:</th>      <td> 3.119</td> <th>  Cond. No.          </th> <td>    1.00</td>\n",
       "</tr>\n",
       "</table><br/><br/>Notes:<br/>[1] R² is computed without centering (uncentered) since the model does not contain a constant.<br/>[2] Standard Errors assume that the covariance matrix of the errors is correctly specified."
      ],
      "text/plain": [
       "<class 'statsmodels.iolib.summary.Summary'>\n",
       "\"\"\"\n",
       "                                 OLS Regression Results                                \n",
       "=======================================================================================\n",
       "Dep. Variable:                      y   R-squared (uncentered):                   0.798\n",
       "Model:                            OLS   Adj. R-squared (uncentered):              0.796\n",
       "Method:                 Least Squares   F-statistic:                              391.7\n",
       "Date:                Fri, 19 Mar 2021   Prob (F-statistic):                    3.46e-36\n",
       "Time:                        05:16:22   Log-Likelihood:                         -135.67\n",
       "No. Observations:                 100   AIC:                                      273.3\n",
       "Df Residuals:                      99   BIC:                                      275.9\n",
       "Df Model:                           1                                                  \n",
       "Covariance Type:            nonrobust                                                  \n",
       "==============================================================================\n",
       "                 coef    std err          t      P>|t|      [0.025      0.975]\n",
       "------------------------------------------------------------------------------\n",
       "x              2.1067      0.106     19.792      0.000       1.896       2.318\n",
       "==============================================================================\n",
       "Omnibus:                        0.880   Durbin-Watson:                   2.106\n",
       "Prob(Omnibus):                  0.644   Jarque-Bera (JB):                0.554\n",
       "Skew:                          -0.172   Prob(JB):                        0.758\n",
       "Kurtosis:                       3.119   Cond. No.                         1.00\n",
       "==============================================================================\n",
       "\n",
       "Notes:\n",
       "[1] R² is computed without centering (uncentered) since the model does not contain a constant.\n",
       "[2] Standard Errors assume that the covariance matrix of the errors is correctly specified.\n",
       "\"\"\""
      ]
     },
     "execution_count": 5,
     "metadata": {},
     "output_type": "execute_result"
    }
   ],
   "source": [
    "# regression without intercept\n",
    "reg1 = smf.ols('y ~ x + 0', data=df).fit()\n",
    "reg1.summary(alpha=0.05)"
   ]
  },
  {
   "cell_type": "code",
   "execution_count": 6,
   "metadata": {},
   "outputs": [
    {
     "data": {
      "text/html": [
       "<table class=\"simpletable\">\n",
       "<tr>\n",
       "  <td></td>     <th>coef</th>     <th>std err</th>      <th>t</th>      <th>P>|t|</th>  <th>[0.025</th>    <th>0.975]</th>  \n",
       "</tr>\n",
       "<tr>\n",
       "  <th>x</th> <td>    2.1067</td> <td>    0.106</td> <td>   19.792</td> <td> 0.000</td> <td>    1.896</td> <td>    2.318</td>\n",
       "</tr>\n",
       "</table>"
      ],
      "text/plain": [
       "<class 'statsmodels.iolib.table.SimpleTable'>"
      ]
     },
     "execution_count": 6,
     "metadata": {},
     "output_type": "execute_result"
    }
   ],
   "source": [
    "reg1.summary().tables[1]"
   ]
  },
  {
   "cell_type": "markdown",
   "metadata": {},
   "source": [
    "<div class=\"alert alert-block alert-info\">\n",
    "    <b>$\\hat{\\beta}$</b><br>\n",
    "    We simulated y using 2x + e, the model has slightly over-estimated the coefficient for x at &nbsp; $\\hat{\\beta} = 2.1067$ but the true $\\beta$ falls within the confidence interval.<br><br>\n",
    "    <b>Standard Error of the fit</b> = 0.106<br>\n",
    "    $$S_{b_1} = \\frac{S_{YX}}{\\sqrt{SSX}}$$<br>\n",
    "    where, \n",
    "    $$\n",
    "    \\begin{align*}\n",
    "        S_{YX} &= \\sqrt{\\frac{SSE}{n-2}} \\\\\n",
    "        SSE &= \\sum{(y - \\hat{y})^2} \\\\\n",
    "        SSX &= \\sum{(x - \\bar{x})^2}\n",
    "    \\end{align*}\n",
    "    $$\n",
    "    <b>$S_{YX}$&nbsp; or SE of the estimate</b> measures the variability of the observed y values from the predicted y values. It is measured in the same units as the dependent variable Y.<br>\n",
    "    So, in a way, std error of the fit states average variability around $y - \\hat{y}$ as a fraction of average variation in x around its mean.<br><br>\n",
    "    <b>t test</b><br>\n",
    "    Testing the $H_0$ that there is no relationship between the variations of x and y, we got a t stat of 19.792 and a p-value ~ 0. Which means, we can reject the hypothesis of no relationship between y and x.\n",
    "</div>"
   ]
  },
  {
   "cell_type": "markdown",
   "metadata": {},
   "source": [
    "[go to toc](#index)"
   ]
  },
  {
   "cell_type": "markdown",
   "metadata": {},
   "source": [
    "<div align=\"center\"><b>------------------------------------------------------------------------------------------------------------------------------------------------------------------------------------------------</b></div>"
   ]
  },
  {
   "cell_type": "markdown",
   "metadata": {},
   "source": [
    "### b) x ~ y, SLR without intercept"
   ]
  },
  {
   "cell_type": "code",
   "execution_count": 7,
   "metadata": {},
   "outputs": [
    {
     "data": {
      "text/html": [
       "<table class=\"simpletable\">\n",
       "<caption>OLS Regression Results</caption>\n",
       "<tr>\n",
       "  <th>Dep. Variable:</th>            <td>x</td>        <th>  R-squared (uncentered):</th>      <td>   0.798</td>\n",
       "</tr>\n",
       "<tr>\n",
       "  <th>Model:</th>                   <td>OLS</td>       <th>  Adj. R-squared (uncentered):</th> <td>   0.796</td>\n",
       "</tr>\n",
       "<tr>\n",
       "  <th>Method:</th>             <td>Least Squares</td>  <th>  F-statistic:       </th>          <td>   391.7</td>\n",
       "</tr>\n",
       "<tr>\n",
       "  <th>Date:</th>             <td>Fri, 19 Mar 2021</td> <th>  Prob (F-statistic):</th>          <td>3.46e-36</td>\n",
       "</tr>\n",
       "<tr>\n",
       "  <th>Time:</th>                 <td>05:16:22</td>     <th>  Log-Likelihood:    </th>          <td> -49.891</td>\n",
       "</tr>\n",
       "<tr>\n",
       "  <th>No. Observations:</th>      <td>   100</td>      <th>  AIC:               </th>          <td>   101.8</td>\n",
       "</tr>\n",
       "<tr>\n",
       "  <th>Df Residuals:</th>          <td>    99</td>      <th>  BIC:               </th>          <td>   104.4</td>\n",
       "</tr>\n",
       "<tr>\n",
       "  <th>Df Model:</th>              <td>     1</td>      <th>                     </th>              <td> </td>   \n",
       "</tr>\n",
       "<tr>\n",
       "  <th>Covariance Type:</th>      <td>nonrobust</td>    <th>                     </th>              <td> </td>   \n",
       "</tr>\n",
       "</table>\n",
       "<table class=\"simpletable\">\n",
       "<tr>\n",
       "  <td></td>     <th>coef</th>     <th>std err</th>      <th>t</th>      <th>P>|t|</th>  <th>[0.025</th>    <th>0.975]</th>  \n",
       "</tr>\n",
       "<tr>\n",
       "  <th>y</th> <td>    0.3789</td> <td>    0.019</td> <td>   19.792</td> <td> 0.000</td> <td>    0.341</td> <td>    0.417</td>\n",
       "</tr>\n",
       "</table>\n",
       "<table class=\"simpletable\">\n",
       "<tr>\n",
       "  <th>Omnibus:</th>       <td> 0.476</td> <th>  Durbin-Watson:     </th> <td>   2.166</td>\n",
       "</tr>\n",
       "<tr>\n",
       "  <th>Prob(Omnibus):</th> <td> 0.788</td> <th>  Jarque-Bera (JB):  </th> <td>   0.631</td>\n",
       "</tr>\n",
       "<tr>\n",
       "  <th>Skew:</th>          <td> 0.115</td> <th>  Prob(JB):          </th> <td>   0.729</td>\n",
       "</tr>\n",
       "<tr>\n",
       "  <th>Kurtosis:</th>      <td> 2.685</td> <th>  Cond. No.          </th> <td>    1.00</td>\n",
       "</tr>\n",
       "</table><br/><br/>Notes:<br/>[1] R² is computed without centering (uncentered) since the model does not contain a constant.<br/>[2] Standard Errors assume that the covariance matrix of the errors is correctly specified."
      ],
      "text/plain": [
       "<class 'statsmodels.iolib.summary.Summary'>\n",
       "\"\"\"\n",
       "                                 OLS Regression Results                                \n",
       "=======================================================================================\n",
       "Dep. Variable:                      x   R-squared (uncentered):                   0.798\n",
       "Model:                            OLS   Adj. R-squared (uncentered):              0.796\n",
       "Method:                 Least Squares   F-statistic:                              391.7\n",
       "Date:                Fri, 19 Mar 2021   Prob (F-statistic):                    3.46e-36\n",
       "Time:                        05:16:22   Log-Likelihood:                         -49.891\n",
       "No. Observations:                 100   AIC:                                      101.8\n",
       "Df Residuals:                      99   BIC:                                      104.4\n",
       "Df Model:                           1                                                  \n",
       "Covariance Type:            nonrobust                                                  \n",
       "==============================================================================\n",
       "                 coef    std err          t      P>|t|      [0.025      0.975]\n",
       "------------------------------------------------------------------------------\n",
       "y              0.3789      0.019     19.792      0.000       0.341       0.417\n",
       "==============================================================================\n",
       "Omnibus:                        0.476   Durbin-Watson:                   2.166\n",
       "Prob(Omnibus):                  0.788   Jarque-Bera (JB):                0.631\n",
       "Skew:                           0.115   Prob(JB):                        0.729\n",
       "Kurtosis:                       2.685   Cond. No.                         1.00\n",
       "==============================================================================\n",
       "\n",
       "Notes:\n",
       "[1] R² is computed without centering (uncentered) since the model does not contain a constant.\n",
       "[2] Standard Errors assume that the covariance matrix of the errors is correctly specified.\n",
       "\"\"\""
      ]
     },
     "execution_count": 7,
     "metadata": {},
     "output_type": "execute_result"
    }
   ],
   "source": [
    "reg2 = smf.ols('x ~ y+0', data=df).fit()\n",
    "reg2.summary()"
   ]
  },
  {
   "cell_type": "code",
   "execution_count": 8,
   "metadata": {},
   "outputs": [
    {
     "data": {
      "text/html": [
       "<table class=\"simpletable\">\n",
       "<tr>\n",
       "  <td></td>     <th>coef</th>     <th>std err</th>      <th>t</th>      <th>P>|t|</th>  <th>[0.025</th>    <th>0.975]</th>  \n",
       "</tr>\n",
       "<tr>\n",
       "  <th>y</th> <td>    0.3789</td> <td>    0.019</td> <td>   19.792</td> <td> 0.000</td> <td>    0.341</td> <td>    0.417</td>\n",
       "</tr>\n",
       "</table>"
      ],
      "text/plain": [
       "<class 'statsmodels.iolib.table.SimpleTable'>"
      ]
     },
     "execution_count": 8,
     "metadata": {},
     "output_type": "execute_result"
    }
   ],
   "source": [
    "reg2.summary().tables[1]"
   ]
  },
  {
   "cell_type": "markdown",
   "metadata": {},
   "source": [
    "[go to toc](#index)"
   ]
  },
  {
   "cell_type": "markdown",
   "metadata": {},
   "source": [
    "<div align=\"center\"><b>------------------------------------------------------------------------------------------------------------------------------------------------------------------------------------------------</b></div>"
   ]
  },
  {
   "cell_type": "markdown",
   "metadata": {},
   "source": [
    "### c) Relation between a and b\n",
    "What is the relationship between the results obtained in (a) and (b)?"
   ]
  },
  {
   "cell_type": "code",
   "execution_count": 9,
   "metadata": {},
   "outputs": [
    {
     "data": {
      "text/html": [
       "<table class=\"simpletable\">\n",
       "<tr>\n",
       "  <td></td>     <th>coef</th>     <th>std err</th>      <th>t</th>      <th>P>|t|</th>  <th>[0.025</th>    <th>0.975]</th>  \n",
       "</tr>\n",
       "<tr>\n",
       "  <th>x</th> <td>    2.1067</td> <td>    0.106</td> <td>   19.792</td> <td> 0.000</td> <td>    1.896</td> <td>    2.318</td>\n",
       "</tr>\n",
       "</table>"
      ],
      "text/plain": [
       "<class 'statsmodels.iolib.table.SimpleTable'>"
      ]
     },
     "execution_count": 9,
     "metadata": {},
     "output_type": "execute_result"
    }
   ],
   "source": [
    "reg1.summary().tables[1]"
   ]
  },
  {
   "cell_type": "code",
   "execution_count": 10,
   "metadata": {},
   "outputs": [
    {
     "data": {
      "text/html": [
       "<table class=\"simpletable\">\n",
       "<tr>\n",
       "  <td></td>     <th>coef</th>     <th>std err</th>      <th>t</th>      <th>P>|t|</th>  <th>[0.025</th>    <th>0.975]</th>  \n",
       "</tr>\n",
       "<tr>\n",
       "  <th>y</th> <td>    0.3789</td> <td>    0.019</td> <td>   19.792</td> <td> 0.000</td> <td>    0.341</td> <td>    0.417</td>\n",
       "</tr>\n",
       "</table>"
      ],
      "text/plain": [
       "<class 'statsmodels.iolib.table.SimpleTable'>"
      ]
     },
     "execution_count": 10,
     "metadata": {},
     "output_type": "execute_result"
    }
   ],
   "source": [
    "reg2.summary().tables[1]"
   ]
  },
  {
   "cell_type": "markdown",
   "metadata": {},
   "source": [
    "<div class=\"alert alert-block alert-info\">\n",
    "We can see that the t-stat for both regressions is the same and the coefficient estimates or slopes of the lines are not inversely proportional, i.e. &nbsp; $\\hat{\\beta}_y \\ne 1 / \\hat{\\beta}_x$<br><br>\n",
    "The forms that the relation between x and y takes are: \n",
    "    $$ y = 2 x + \\epsilon $$\n",
    "    $$ x = \\frac{y - \\epsilon}{2} $$\n",
    "The reason for the misalignment in the two slopes is that the method for estimation of slopes, oridinary least squares, is working on minimizing two different loss functions.<br>\n",
    "In case of $y ~ x$, ols derives slope by minimizing $\\sum{(y - \\hat{y})^2}$<br>\n",
    "In case of $x ~ y$, ols derives slope by minimizing $\\sum{(x - \\hat{x})^2}$<br>\n",
    "<br>Three sources expounding on this topic :<br>\n",
    "    - <a href=\"https://www.kaggle.com/lmorgan95/islr-linear-regression-ch-3-solutions#c-reverse-regression-reversing-x-and-y---comparing-results\">1</a> , <a href=\"https://botlnec.github.io/islp/sols/chapter3/exercise11/\">2</a> , <a href=\"https://stats.stackexchange.com/questions/20553/effect-of-switching-response-and-explanatory-variable-in-simple-linear-regressio/20560#20560\">3</a>\n",
    "</div>"
   ]
  },
  {
   "cell_type": "markdown",
   "metadata": {},
   "source": [
    "[go to toc](#index)"
   ]
  },
  {
   "cell_type": "markdown",
   "metadata": {},
   "source": [
    "<div align=\"center\"><b>------------------------------------------------------------------------------------------------------------------------------------------------------------------------------------------------</b></div>"
   ]
  },
  {
   "cell_type": "markdown",
   "metadata": {},
   "source": [
    "### d) t statistic for y ~ x + 0\n",
    "For the regression of Y onto X without an intercept, the t-statistic for $H_0 : \\beta = 0$ takes the form &ensp; \n",
    "\n",
    "$$t = \\frac{\\hat\\beta}{SE(\\hat\\beta)}$$  \n",
    "where (<b>formulas for regression without intercept</b>)\n",
    "$$\\hat\\beta = \\left(\\sum_{i=1}^{n} x_{i} y_{i}\\right) /\\left(\\sum_{i^{\\prime}=1}^{n} x_{i^{\\prime}}^{2}\\right)$$\n",
    "\n",
    "$$SE(\\hat{\\beta}) = \\sqrt{\\frac{\\sum_{i=1}^{n}\\left(y_{i}-x_{i} \\hat{\\beta}\\right)^{2}}{(n-1) \\sum_{i^{\\prime}=1}^{n} x_{i^{\\prime}}^{2}}}$$\n",
    "\n",
    "(These formulas are slightly different from those given in Sections 3.1.1 and 3.1.2, since here we are performing regression without an intercept.)\n",
    "Show algebraically, and confirm numerically, that the t-statistic can be written as\n",
    "\n",
    "$$\\frac{(\\sqrt{n-1}) \\sum_{i=1}^{n} x_{i} y_{i}}{\\sqrt{\\left(\\sum_{i=1}^{n} x_{i}^{2}\\right)\\left(\\sum_{i^{\\prime}=1}^{n} y_{i^{\\prime}}^{2}\\right)-\\left(\\sum_{i^{\\prime}=1}^{n} x_{i^{\\prime}} y_{i^{\\prime}}\\right)^{2}}}$$"
   ]
  },
  {
   "cell_type": "markdown",
   "metadata": {},
   "source": [
    "<b>Answer:</b><br>\n"
   ]
  },
  {
   "cell_type": "markdown",
   "metadata": {},
   "source": [
    "<b>Part (a):</b> Show algebraically<br>\n",
    "[Help source: Liam Morgan](https://www.kaggle.com/lmorgan95/islr-linear-regression-ch-3-solutions#d-algebra-involving-the-t-statistic-no-intercept)\n",
    "\n",
    "To show\n",
    "$$\n",
    "t = \\frac{\\hat\\beta}{SE(\\hat\\beta)} = \\frac {\\sqrt{n-1} \\sum{x y}} {\\sqrt{(\\sum{x^2})(\\sum{y^2}) - (\\sum{x y})^2}}\n",
    "$$\n",
    "\n",
    "<br><br>\n",
    "$$ \\hat\\beta = \\frac{\\sum{xy}}{\\sum{x^2}} \\quad \\leftarrow (1) $$\n",
    "\n",
    "\n",
    "Simplifying $SE(\\hat\\beta)$:\n",
    "$$ SE(\\hat\\beta) = \\sqrt{\\frac{\\sum{(y - x \\hat{\\beta})^2}}{(n-1) \\sum{x^2}}} $$\n",
    "\n",
    "Numerator of $SE(\\hat\\beta)$\n",
    "$$\n",
    "\\begin{align*}\n",
    "\\sum{(y - x \\hat{\\beta})^2} \n",
    "&= \\sum{( y^2 + \\hat{\\beta}^2 x^2 - 2 y \\hat{\\beta} x )} \\\\\n",
    "&= \\sum{y^2} + \\hat{\\beta}^2 \\sum{x^2} - 2\\hat\\beta \\sum{xy} \\\\\n",
    "&= \\sum{y^2} + \\left( \\frac{\\sum{xy}}{\\sum{x^2}} \\right)^2 \\sum{x^2} - 2 \\left( \\frac{\\sum{xy}}{\\sum{x^2}} \\right) \\sum{xy} && \\text{(from 1)} \\\\\n",
    "&= \\sum{y^2} +  \\left( \\frac{(\\sum{xy})^2}{\\sum{x^2}} \\right) - 2 \\left( \\frac{(\\sum{xy})^2}{\\sum{x^2}} \\right) \\\\\n",
    "&= \\sum{y^2} - \\frac{(\\sum{xy})^2}{\\sum{x^2}} \\\\\n",
    "&= \\frac{\\sum{x^2}\\sum{y^2} - (\\sum{xy})^2} {\\sum{x^2}} && \\leftarrow (2)\n",
    "\\end{align*}\n",
    "$$\n",
    "\n",
    "Putting simplified numerator from (2) in SE and simplifying further\n",
    "$$ SE(\\hat\\beta) = \\frac{1}{\\sum{x^2}} \\sqrt{\\frac{\\sum{x^2}\\sum{y^2} - (\\sum{xy})^2}{(n-1)}} \\quad \\leftarrow (3) $$\n",
    "\n",
    "$$\n",
    "\\begin{align*}\n",
    "t &= \\frac{\\hat\\beta}{SE(\\hat\\beta)} = \\frac{\\frac{\\sum{xy}}{\\sum{x^2}}}{\\frac{1}{\\sum{x^2}} \\sqrt{\\frac{\\sum{x^2}\\sum{y^2} - (\\sum{xy})^2}{(n-1)}}} \\\\\n",
    "t &= \\frac {\\sqrt{n-1} \\sum{x y}} {\\sqrt{(\\sum{x^2})(\\sum{y^2}) - (\\sum{x y})^2}}\n",
    "\\end{align*}\n",
    "$$\n",
    "\n",
    "<br><br>\n",
    "<b>Part (b):</b> Confirming numerically<br>\n",
    "Solving for \n",
    "$$\\frac{(\\sqrt{n-1}) \\sum_{i=1}^{n} x_{i} y_{i}}{\\sqrt{\\left(\\sum_{i=1}^{n} x_{i}^{2}\\right)\\left(\\sum_{i^{\\prime}=1}^{n} y_{i^{\\prime}}^{2}\\right)-\\left(\\sum_{i^{\\prime}=1}^{n} x_{i^{\\prime}} y_{i^{\\prime}}\\right)^{2}}}$$\n",
    "with the values of &nbsp; $y\\ \\sim\\ x + 0$ &nbsp; model"
   ]
  },
  {
   "cell_type": "code",
   "execution_count": 11,
   "metadata": {},
   "outputs": [
    {
     "data": {
      "text/plain": [
       "19.791801987091272"
      ]
     },
     "execution_count": 11,
     "metadata": {},
     "output_type": "execute_result"
    }
   ],
   "source": [
    "(np.sqrt(len(y) - 1) * sum(x*y)) / np.sqrt((sum(x**2)*sum(y**2)) - (sum(x*y)**2))"
   ]
  },
  {
   "cell_type": "code",
   "execution_count": 12,
   "metadata": {},
   "outputs": [
    {
     "data": {
      "text/plain": [
       "x    19.791802\n",
       "dtype: float64"
      ]
     },
     "execution_count": 12,
     "metadata": {},
     "output_type": "execute_result"
    }
   ],
   "source": [
    "reg1.tvalues"
   ]
  },
  {
   "cell_type": "markdown",
   "metadata": {},
   "source": [
    "[go to toc](#index)"
   ]
  },
  {
   "cell_type": "markdown",
   "metadata": {},
   "source": [
    "<div align=\"center\"><b>------------------------------------------------------------------------------------------------------------------------------------------------------------------------------------------------</b></div>"
   ]
  },
  {
   "cell_type": "markdown",
   "metadata": {},
   "source": [
    "### e) t-statistic equality in reverse regression\n",
    "Using the results from (d), argue that the t-statistic for the regression of y onto x is the same as the t-statistic for the regression of x onto y.\n",
    "\n",
    "<b>Answer:</b><br>\n",
    "The formula \n",
    "$$\\frac{(\\sqrt{n-1}) \\sum_{i=1}^{n} x_{i} y_{i}}{\\sqrt{\\left(\\sum_{i=1}^{n} x_{i}^{2}\\right)\\left(\\sum_{i^{\\prime}=1}^{n} y_{i^{\\prime}}^{2}\\right)-\\left(\\sum_{i^{\\prime}=1}^{n} x_{i^{\\prime}} y_{i^{\\prime}}\\right)^{2}}}$$\n",
    "\n",
    "can be applied to $x \\sim y + 0$ model without any change in the figures and thus will give the same result as for $y \\sim x + 0$. So, the t-value will be the same for both models."
   ]
  },
  {
   "cell_type": "markdown",
   "metadata": {},
   "source": [
    "[go to toc](#index)"
   ]
  },
  {
   "cell_type": "markdown",
   "metadata": {},
   "source": [
    "<div align=\"center\"><b>------------------------------------------------------------------------------------------------------------------------------------------------------------------------------------------------</b></div>"
   ]
  },
  {
   "cell_type": "markdown",
   "metadata": {},
   "source": [
    "### f) t-statistic for models with intercepts\n",
    "Show that when regression is performed with an intercept, the t-statistic for $H_0 : \\beta_1 = 0$ is the same for the regression of y onto x as it is for the regression of x onto y."
   ]
  },
  {
   "cell_type": "code",
   "execution_count": 13,
   "metadata": {},
   "outputs": [],
   "source": [
    "reg3 = smf.ols('y ~ x', data=df).fit()\n",
    "reg4 = smf.ols('x ~ y', data=df).fit()"
   ]
  },
  {
   "cell_type": "code",
   "execution_count": 14,
   "metadata": {},
   "outputs": [
    {
     "data": {
      "text/html": [
       "<table class=\"simpletable\">\n",
       "<tr>\n",
       "      <td></td>         <th>coef</th>     <th>std err</th>      <th>t</th>      <th>P>|t|</th>  <th>[0.025</th>    <th>0.975]</th>  \n",
       "</tr>\n",
       "<tr>\n",
       "  <th>Intercept</th> <td>    0.1470</td> <td>    0.094</td> <td>    1.564</td> <td> 0.121</td> <td>   -0.039</td> <td>    0.334</td>\n",
       "</tr>\n",
       "<tr>\n",
       "  <th>x</th>         <td>    2.0954</td> <td>    0.106</td> <td>   19.783</td> <td> 0.000</td> <td>    1.885</td> <td>    2.306</td>\n",
       "</tr>\n",
       "</table>"
      ],
      "text/plain": [
       "<class 'statsmodels.iolib.table.SimpleTable'>"
      ]
     },
     "execution_count": 14,
     "metadata": {},
     "output_type": "execute_result"
    }
   ],
   "source": [
    "reg3.summary().tables[1]"
   ]
  },
  {
   "cell_type": "code",
   "execution_count": 15,
   "metadata": {},
   "outputs": [
    {
     "data": {
      "text/html": [
       "<table class=\"simpletable\">\n",
       "<tr>\n",
       "      <td></td>         <th>coef</th>     <th>std err</th>      <th>t</th>      <th>P>|t|</th>  <th>[0.025</th>    <th>0.975]</th>  \n",
       "</tr>\n",
       "<tr>\n",
       "  <th>Intercept</th> <td>   -0.0440</td> <td>    0.040</td> <td>   -1.090</td> <td> 0.279</td> <td>   -0.124</td> <td>    0.036</td>\n",
       "</tr>\n",
       "<tr>\n",
       "  <th>y</th>         <td>    0.3817</td> <td>    0.019</td> <td>   19.783</td> <td> 0.000</td> <td>    0.343</td> <td>    0.420</td>\n",
       "</tr>\n",
       "</table>"
      ],
      "text/plain": [
       "<class 'statsmodels.iolib.table.SimpleTable'>"
      ]
     },
     "execution_count": 15,
     "metadata": {},
     "output_type": "execute_result"
    }
   ],
   "source": [
    "reg4.summary().tables[1]"
   ]
  },
  {
   "cell_type": "code",
   "execution_count": 16,
   "metadata": {},
   "outputs": [
    {
     "data": {
      "text/plain": [
       "Intercept     1.564347\n",
       "x            19.782585\n",
       "dtype: float64"
      ]
     },
     "execution_count": 16,
     "metadata": {},
     "output_type": "execute_result"
    }
   ],
   "source": [
    "reg3.tvalues"
   ]
  },
  {
   "cell_type": "code",
   "execution_count": 17,
   "metadata": {},
   "outputs": [
    {
     "data": {
      "text/plain": [
       "Intercept    -1.089559\n",
       "y            19.782585\n",
       "dtype: float64"
      ]
     },
     "execution_count": 17,
     "metadata": {},
     "output_type": "execute_result"
    }
   ],
   "source": [
    "reg4.tvalues"
   ]
  },
  {
   "cell_type": "code",
   "execution_count": 18,
   "metadata": {},
   "outputs": [
    {
     "data": {
      "text/plain": [
       "True"
      ]
     },
     "execution_count": 18,
     "metadata": {},
     "output_type": "execute_result"
    }
   ],
   "source": [
    "reg3.tvalues[1].round(8) == reg4.tvalues[1].round(8)"
   ]
  },
  {
   "cell_type": "markdown",
   "metadata": {},
   "source": [
    "The t-values for predictor are the same in both models."
   ]
  },
  {
   "cell_type": "markdown",
   "metadata": {},
   "source": [
    "[go to toc](#index)"
   ]
  },
  {
   "cell_type": "markdown",
   "metadata": {},
   "source": [
    "<div align=\"center\"><b>==============================================================================================================</b></div>"
   ]
  },
  {
   "cell_type": "markdown",
   "metadata": {},
   "source": [
    "## Q12\n",
    "This problem involves simple linear regression without an intercept."
   ]
  },
  {
   "cell_type": "markdown",
   "metadata": {},
   "source": [
    "### a) Circumstances for equal coefficients in reverse regression\n",
    "a) Recall that the coefficient estimate $\\hat\\beta$ for the linear regression of Y onto X without an intercept is given by (3.38). Under what circumstance is the coefficient estimate for the regression of X onto Y the same as the coefficient estimate for the regression of Y onto X?\n",
    "\n",
    "$$ (3.38) \\rightarrow \\quad \\hat\\beta = \\frac{\\sum{xy}}{\\sum{x^2}} $$\n",
    "\n",
    "<b>Answer:</b><br>\n",
    "$$\n",
    "\\hat\\beta_{x} = \\frac{\\sum{xy}}{\\sum{x^2}} \n",
    "\\quad \\text{and} \\quad\n",
    "\\hat\\beta_{y} = \\frac{\\sum{xy}}{\\sum{y^2}}\n",
    "$$\n",
    "The two coefficients will be the same when\n",
    "$$\\sum{x^2} = \\sum{y^2}$$"
   ]
  },
  {
   "cell_type": "markdown",
   "metadata": {},
   "source": [
    "[go to toc](#index)"
   ]
  },
  {
   "cell_type": "markdown",
   "metadata": {},
   "source": [
    "<div align=\"center\"><b>------------------------------------------------------------------------------------------------------------------------------------------------------------------------------------------------</b></div>"
   ]
  },
  {
   "cell_type": "markdown",
   "metadata": {},
   "source": [
    "### b) Simulate data where coefficient of reverse regression is not equal\n",
    "Generate an example with n = 100 observations in which the coefficient estimate for the regression of X onto Y is different from the coefficient estimate for the regression of Y onto X."
   ]
  },
  {
   "cell_type": "code",
   "execution_count": 19,
   "metadata": {},
   "outputs": [
    {
     "data": {
      "image/png": "[encoded data removed]",
      "text/plain": [
       "<Figure size 432x288 with 1 Axes>"
      ]
     },
     "metadata": {},
     "output_type": "display_data"
    }
   ],
   "source": [
    "np.random.seed(1)\n",
    "x = np.random.normal(size=100)\n",
    "y = 5 * x + np.random.normal(size=100, scale=3)\n",
    "df = pd.DataFrame({'x': x, 'y': y})\n",
    "sns.scatterplot(x=x, y=y);"
   ]
  },
  {
   "cell_type": "code",
   "execution_count": 20,
   "metadata": {},
   "outputs": [],
   "source": [
    "reg1 = smf.ols('y ~ x + 0', data=df).fit()\n",
    "reg2 = smf.ols('x ~ y + 0', data=df).fit()"
   ]
  },
  {
   "cell_type": "code",
   "execution_count": 21,
   "metadata": {},
   "outputs": [
    {
     "data": {
      "text/html": [
       "<table class=\"simpletable\">\n",
       "<tr>\n",
       "  <td></td>     <th>coef</th>     <th>std err</th>      <th>t</th>      <th>P>|t|</th>  <th>[0.025</th>    <th>0.975]</th>  \n",
       "</tr>\n",
       "<tr>\n",
       "  <th>x</th> <td>    5.3202</td> <td>    0.319</td> <td>   16.660</td> <td> 0.000</td> <td>    4.687</td> <td>    5.954</td>\n",
       "</tr>\n",
       "</table>"
      ],
      "text/plain": [
       "<class 'statsmodels.iolib.table.SimpleTable'>"
      ]
     },
     "execution_count": 21,
     "metadata": {},
     "output_type": "execute_result"
    }
   ],
   "source": [
    "reg1.summary().tables[1]"
   ]
  },
  {
   "cell_type": "code",
   "execution_count": 22,
   "metadata": {},
   "outputs": [
    {
     "data": {
      "text/html": [
       "<table class=\"simpletable\">\n",
       "<tr>\n",
       "  <td></td>     <th>coef</th>     <th>std err</th>      <th>t</th>      <th>P>|t|</th>  <th>[0.025</th>    <th>0.975]</th>  \n",
       "</tr>\n",
       "<tr>\n",
       "  <th>y</th> <td>    0.1385</td> <td>    0.008</td> <td>   16.660</td> <td> 0.000</td> <td>    0.122</td> <td>    0.155</td>\n",
       "</tr>\n",
       "</table>"
      ],
      "text/plain": [
       "<class 'statsmodels.iolib.table.SimpleTable'>"
      ]
     },
     "execution_count": 22,
     "metadata": {},
     "output_type": "execute_result"
    }
   ],
   "source": [
    "reg2.summary().tables[1]"
   ]
  },
  {
   "cell_type": "code",
   "execution_count": 23,
   "metadata": {},
   "outputs": [
    {
     "data": {
      "image/png": "[encoded data removed]",
      "text/plain": [
       "<Figure size 468x360 with 1 Axes>"
      ]
     },
     "metadata": {},
     "output_type": "display_data"
    }
   ],
   "source": [
    "f, axs = plt.subplots(1,1, figsize=(6.5,5))\n",
    "sns.scatterplot(x=x, y=y)\n",
    "plt.plot(x, reg1.fittedvalues, lw=0.8, color='g')\n",
    "ycords = np.linspace(min(y), max(y), len(y))\n",
    "plt.plot(reg2.predict(exog=dict(y=ycords)), ycords, color='r', lw=0.8);\n",
    "# axs.axline((min(x), reg1.predict(exog=dict(x=min(x)))[0]), slope=reg1.params[0], color='g', lw=0.8);\n",
    "# axs.axline((reg2.predict(exog=dict(y=min(y)))[0], min(y)), slope=1/reg2.params[0], color='r', lw=0.8);\n",
    "\n",
    "## Legend\n",
    "from matplotlib.lines import Line2D\n",
    "lines = [Line2D([0], [0], color=c, linewidth=1, linestyle='-', marker=None) for c in ['g', 'r']]\n",
    "labels = ['y ~ x', 'x ~ y']\n",
    "plt.legend(lines, labels, loc='upper left', frameon=False);"
   ]
  },
  {
   "cell_type": "markdown",
   "metadata": {},
   "source": [
    "[go to toc](#index)"
   ]
  },
  {
   "cell_type": "markdown",
   "metadata": {},
   "source": [
    "<div align=\"center\"><b>------------------------------------------------------------------------------------------------------------------------------------------------------------------------------------------------</b></div>"
   ]
  },
  {
   "cell_type": "markdown",
   "metadata": {},
   "source": [
    "### c) Simulate data where coefficient of reverse regression is equal\n",
    "Generate an example with n = 100 observations in which the coefficient estimate for the regression of X onto Y is the <b>same</b> as the coefficient estimate for the regression of Y onto X\n",
    "\n",
    "<b>Answer:</b><br>\n",
    "There can be three scenrios where\n",
    "$$\n",
    "\\hat\\beta_{x} = \\frac{\\sum{xy}}{\\sum{x^2}} \n",
    "\\quad = \\quad\n",
    "\\hat\\beta_{y} = \\frac{\\sum{xy}}{\\sum{y^2}}\n",
    "$$\n",
    "1) y = x<br>\n",
    "2) y = -x<br>\n",
    "3) y = |x|<br>\n",
    "3) y is a permutation of x<br>"
   ]
  },
  {
   "cell_type": "markdown",
   "metadata": {},
   "source": [
    "#### y is a permutation of x"
   ]
  },
  {
   "cell_type": "code",
   "execution_count": 24,
   "metadata": {},
   "outputs": [
    {
     "name": "stdout",
     "output_type": "stream",
     "text": [
      "xy = 961701, x^2 = 1230823, y^2=1230823\n",
      "==============================================================================\n",
      "                 coef    std err          t      P>|t|      [0.025      0.975]\n",
      "------------------------------------------------------------------------------\n",
      "x              0.7813      0.063     12.457      0.000       0.657       0.906\n",
      "==============================================================================\n",
      "==============================================================================\n",
      "                 coef    std err          t      P>|t|      [0.025      0.975]\n",
      "------------------------------------------------------------------------------\n",
      "y              0.7813      0.063     12.457      0.000       0.657       0.906\n",
      "==============================================================================\n"
     ]
    },
    {
     "data": {
      "image/png": "[encoded data removed]",
      "text/plain": [
       "<Figure size 468x360 with 1 Axes>"
      ]
     },
     "metadata": {},
     "output_type": "display_data"
    }
   ],
   "source": [
    "np.random.seed(1)\n",
    "x = np.random.randint(200, size=100)\n",
    "y = np.random.permutation(x)\n",
    "df = pd.DataFrame({'x': x, 'y': y})\n",
    "\n",
    "print(f'xy = {sum(x*y)}, x^2 = {sum(x**2)}, y^2={sum(y**2)}')\n",
    "\n",
    "reg3 = smf.ols('y ~ x + 0', data=df).fit()\n",
    "reg4 = smf.ols('x ~ y + 0', data=df).fit()\n",
    "\n",
    "print(reg3.summary().tables[1])\n",
    "print(reg4.summary().tables[1])\n",
    "\n",
    "f, axs = plt.subplots(1,1, figsize=(6.5,5))\n",
    "sns.scatterplot(x=x, y=y)\n",
    "axs.axline((min(x), reg3.predict(exog=dict(x=min(x)))[0]), slope=reg3.params[0], color='g', lw=0.8);\n",
    "axs.axline((reg4.predict(exog=dict(y=min(y)))[0], min(y)), slope=1/reg4.params[0], color='r', lw=0.8);"
   ]
  },
  {
   "cell_type": "code",
   "execution_count": 25,
   "metadata": {},
   "outputs": [
    {
     "data": {
      "text/plain": [
       "array([0.40349164, 0.59357852, 1.09491185])"
      ]
     },
     "execution_count": 25,
     "metadata": {},
     "output_type": "execute_result"
    }
   ],
   "source": [
    "abs(np.random.normal(loc=0, size=3))"
   ]
  },
  {
   "cell_type": "markdown",
   "metadata": {},
   "source": [
    "#### y = |x|"
   ]
  },
  {
   "cell_type": "code",
   "execution_count": 26,
   "metadata": {},
   "outputs": [
    {
     "name": "stdout",
     "output_type": "stream",
     "text": [
      "xy = 9.670216925531115, x^2 = 78.71718048502926, y^2=78.71718048502926\n",
      "==============================================================================\n",
      "                 coef    std err          t      P>|t|      [0.025      0.975]\n",
      "------------------------------------------------------------------------------\n",
      "x              0.1228      0.100      1.232      0.221      -0.075       0.321\n",
      "==============================================================================\n",
      "==============================================================================\n",
      "                 coef    std err          t      P>|t|      [0.025      0.975]\n",
      "------------------------------------------------------------------------------\n",
      "y              0.1228      0.100      1.232      0.221      -0.075       0.321\n",
      "==============================================================================\n"
     ]
    },
    {
     "data": {
      "image/png": "[encoded data removed]",
      "text/plain": [
       "<Figure size 468x360 with 1 Axes>"
      ]
     },
     "metadata": {},
     "output_type": "display_data"
    }
   ],
   "source": [
    "np.random.seed(1)\n",
    "x = np.random.normal(loc=0, size=100)\n",
    "y = abs(x)\n",
    "df = pd.DataFrame({'x': x, 'y': y})\n",
    "\n",
    "print(f'xy = {sum(x*y)}, x^2 = {sum(x**2)}, y^2={sum(y**2)}')\n",
    "\n",
    "reg3 = smf.ols('y ~ x + 0', data=df).fit()\n",
    "reg4 = smf.ols('x ~ y + 0', data=df).fit()\n",
    "\n",
    "print(reg3.summary().tables[1])\n",
    "print(reg4.summary().tables[1])\n",
    "\n",
    "f, axs = plt.subplots(1,1, figsize=(6.5,5))\n",
    "sns.scatterplot(x=x, y=y)\n",
    "axs.axline((min(x), reg3.predict(exog=dict(x=min(x)))[0]), slope=reg3.params[0], color='g', lw=0.8);\n",
    "axs.axline((reg4.predict(exog=dict(y=min(y)))[0], min(y)), slope=1/reg4.params[0], color='r', lw=0.8);"
   ]
  },
  {
   "cell_type": "markdown",
   "metadata": {},
   "source": [
    "#### y = -x"
   ]
  },
  {
   "cell_type": "code",
   "execution_count": 27,
   "metadata": {},
   "outputs": [
    {
     "name": "stdout",
     "output_type": "stream",
     "text": [
      "xy = -1230823, x^2 = 1230823, y^2=1230823\n",
      "==============================================================================\n",
      "                 coef    std err          t      P>|t|      [0.025      0.975]\n",
      "------------------------------------------------------------------------------\n",
      "x             -1.0000   3.56e-17  -2.81e+16      0.000      -1.000      -1.000\n",
      "==============================================================================\n",
      "==============================================================================\n",
      "                 coef    std err          t      P>|t|      [0.025      0.975]\n",
      "------------------------------------------------------------------------------\n",
      "y             -1.0000   3.56e-17  -2.81e+16      0.000      -1.000      -1.000\n",
      "==============================================================================\n"
     ]
    },
    {
     "data": {
      "image/png": "[encoded data removed]",
      "text/plain": [
       "<Figure size 468x360 with 1 Axes>"
      ]
     },
     "metadata": {},
     "output_type": "display_data"
    }
   ],
   "source": [
    "np.random.seed(1)\n",
    "x = np.random.randint(200, size=100)\n",
    "y = -x\n",
    "df = pd.DataFrame({'x': x, 'y': y})\n",
    "\n",
    "print(f'xy = {sum(x*y)}, x^2 = {sum(x**2)}, y^2={sum(y**2)}')\n",
    "\n",
    "reg3 = smf.ols('y ~ x + 0', data=df).fit()\n",
    "reg4 = smf.ols('x ~ y + 0', data=df).fit()\n",
    "\n",
    "print(reg3.summary().tables[1])\n",
    "print(reg4.summary().tables[1])\n",
    "\n",
    "f, axs = plt.subplots(1,1, figsize=(6.5,5))\n",
    "sns.scatterplot(x=x, y=y)\n",
    "axs.axline((min(x), reg3.predict(exog=dict(x=min(x)))[0]), slope=reg3.params[0], color='g', lw=0.8);\n",
    "axs.axline((reg4.predict(exog=dict(y=min(y)))[0], min(y)), slope=1/reg4.params[0], color='r', lw=0.8);"
   ]
  },
  {
   "cell_type": "markdown",
   "metadata": {},
   "source": [
    "#### y = x"
   ]
  },
  {
   "cell_type": "code",
   "execution_count": 28,
   "metadata": {},
   "outputs": [
    {
     "name": "stdout",
     "output_type": "stream",
     "text": [
      "xy = 1230823, x^2 = 1230823, y^2=1230823\n",
      "==============================================================================\n",
      "                 coef    std err          t      P>|t|      [0.025      0.975]\n",
      "------------------------------------------------------------------------------\n",
      "x              1.0000   3.56e-17   2.81e+16      0.000       1.000       1.000\n",
      "==============================================================================\n",
      "==============================================================================\n",
      "                 coef    std err          t      P>|t|      [0.025      0.975]\n",
      "------------------------------------------------------------------------------\n",
      "y              1.0000   3.56e-17   2.81e+16      0.000       1.000       1.000\n",
      "==============================================================================\n"
     ]
    },
    {
     "data": {
      "image/png": "[encoded data removed]",
      "text/plain": [
       "<Figure size 468x360 with 1 Axes>"
      ]
     },
     "metadata": {},
     "output_type": "display_data"
    }
   ],
   "source": [
    "np.random.seed(1)\n",
    "x = np.random.randint(200, size=100)\n",
    "y = x\n",
    "df = pd.DataFrame({'x': x, 'y': y})\n",
    "\n",
    "print(f'xy = {sum(x*y)}, x^2 = {sum(x**2)}, y^2={sum(y**2)}')\n",
    "\n",
    "reg3 = smf.ols('y ~ x + 0', data=df).fit()\n",
    "reg4 = smf.ols('x ~ y + 0', data=df).fit()\n",
    "\n",
    "print(reg3.summary().tables[1])\n",
    "print(reg4.summary().tables[1])\n",
    "\n",
    "f, axs = plt.subplots(1,1, figsize=(6.5,5))\n",
    "sns.scatterplot(x=x, y=y)\n",
    "axs.axline((min(x), reg3.predict(exog=dict(x=min(x)))[0]), slope=reg3.params[0], color='g', lw=0.8);\n",
    "axs.axline((reg4.predict(exog=dict(y=min(y)))[0], min(y)), slope=1/reg4.params[0], color='r', lw=0.8);"
   ]
  },
  {
   "cell_type": "code",
   "execution_count": null,
   "metadata": {},
   "outputs": [],
   "source": []
  },
  {
   "cell_type": "markdown",
   "metadata": {},
   "source": [
    "<div align=\"center\"><b>------------------------------------------------------------------------------------------------------------------------------------------------------------------------------------------------</b></div>"
   ]
  },
  {
   "cell_type": "markdown",
   "metadata": {},
   "source": [
    "## References\n",
    "\n",
    "https://www.kaggle.com/lmorgan95/islr-linear-regression-ch-3-solutions  \n",
    "https://botlnec.github.io/islp/sols/chapter3/exercise11/"
   ]
  },
  {
   "cell_type": "markdown",
   "metadata": {},
   "source": [
    "[go to toc](#index)"
   ]
  },
  {
   "cell_type": "markdown",
   "metadata": {},
   "source": [
    "<b> &emsp; &emsp; &emsp; &emsp; &emsp; &emsp; &emsp; &emsp; &emsp; &emsp;-------------------------------------------- &ensp; <i>That's All Folks!</i> &ensp; --------------------------------------------</b>"
   ]
  }
 ],
 "metadata": {
  "kernelspec": {
   "display_name": "Python 3",
   "language": "python",
   "name": "python3"
  },
  "language_info": {
   "codemirror_mode": {
    "name": "ipython",
    "version": 3
   },
   "file_extension": ".py",
   "mimetype": "text/x-python",
   "name": "python",
   "nbconvert_exporter": "python",
   "pygments_lexer": "ipython3",
   "version": "3.8.5"
  },
  "toc": {
   "base_numbering": 1,
   "nav_menu": {},
   "number_sections": false,
   "sideBar": true,
   "skip_h1_title": true,
   "title_cell": "Table of Contents",
   "title_sidebar": "Contents",
   "toc_cell": false,
   "toc_position": {},
   "toc_section_display": true,
   "toc_window_display": true
  }
 },
 "nbformat": 4,
 "nbformat_minor": 4
}
