{
 "cells": [
  {
   "cell_type": "markdown",
   "metadata": {},
   "source": [
    "# Boston\n",
    "\n",
    "__Ch 03 - Q15 (applied)__  \n",
    "This problem involves the Boston data set, which we saw in the lab for this chapter. \n",
    "We will now try to predict per capita crime rate using the other variables in this data set. \n",
    "In other words, per capita crime rate is the response, and the other variables are the predictors.\n",
    "\n",
    "__Description__  \n",
    "This dataset contains information collected by the U.S Census Service concerning housing in the area of Boston Mass.\n",
    "\n",
    "__Source__  \n",
    "The data was originally published by Harrison, D. and Rubinfeld, D.L. 'Hedonic prices and the demand for clean air', J. Environ. Economics & Management, vol.5, 81-102, 1978.\n",
    "\n",
    "__References__  \n",
    "This dataset is a part of the course material of the book : ___Introduction to Statistical Learning with R___"
   ]
  },
  {
   "cell_type": "markdown",
   "metadata": {},
   "source": [
    "__Short description of variables__  \n",
    "\n",
    "variable | description\n",
    ":--- | :---\n",
    "crim | per capita crime rate by town\n",
    "zn | proportion of residential land zoned for lots over 25,000 sq.ft.\n",
    "indus | proportion of non-retail business acres per town.\n",
    "chas | Charles River dummy variable (= 1 if tract bounds river; 0 otherwise).\n",
    "nox | nitrogen oxides concentration (parts per 10 million).\n",
    "rm | average number of rooms per dwelling.\n",
    "age | proportion of owner-occupied units built prior to 1940.\n",
    "dis | weighted mean of distances to five Boston employment centres.\n",
    "rad | index of accessibility to radial highways.\n",
    "tax | full-value property-tax rate per \\$10,000.\n",
    "ptratio | pupil-teacher ratio by town.\n",
    "black | 1000(Bk - 0.63)^2 where Bk is the proportion of blacks by town.\n",
    "lstat | lower status of the population (percent).\n",
    "medv | median value of owner-occupied homes in \\$1000s."
   ]
  },
  {
   "cell_type": "markdown",
   "metadata": {},
   "source": [
    "<div align=\"center\"><b>------------------------------------------------------------------------------------------------------------------------------------------------------------------------------------------------</b></div>"
   ]
  },
  {
   "cell_type": "markdown",
   "metadata": {},
   "source": [
    "<a id='index'></a>\n",
    "### Index\n",
    "- [1) Load packages](#1%29-Load-packages)  \n",
    "- [2) Import data](#2%29-Import-data)\n",
    "- [a) SLR with each predictor](#a%29-SLR-with-each-predictor)\n",
    "    - [Models](#Models)\n",
    "    - [Plots](#Plots)\n",
    "- [b) Multiple Linear Regression](#b%29-Multiple-Linear-Regression)\n",
    "    - [Model](#Model)\n",
    "    - [Statistically insignificant predictors](#Statistically-insignificant-predictors)\n",
    "    - [Statistically significant](#Statistically-significant)\n",
    "- [c) Coefficient comparison - SLR vs MLR](#c%29-Coefficient-comparison---SLR-vs-MLR)\n",
    "- [d) Non-linear association](#d%29-Non-linear-association)\n",
    "    - [Cubic models](#Cubic-models)"
   ]
  },
  {
   "cell_type": "markdown",
   "metadata": {},
   "source": [
    "<div align=\"center\"><b>------------------------------------------------------------------------------------------------------------------------------------------------------------------------------------------------</b></div>"
   ]
  },
  {
   "cell_type": "markdown",
   "metadata": {},
   "source": [
    "## 1) Load packages"
   ]
  },
  {
   "cell_type": "code",
   "execution_count": 1,
   "metadata": {},
   "outputs": [],
   "source": [
    "import numpy as np\n",
    "import pandas as pd\n",
    "import matplotlib.pyplot as plt\n",
    "import seaborn as sns\n",
    "import statsmodels.formula.api as smf\n"
   ]
  },
  {
   "cell_type": "code",
   "execution_count": 2,
   "metadata": {},
   "outputs": [],
   "source": [
    "sns.set_style(rc={'figure.facecolor':'w'})"
   ]
  },
  {
   "cell_type": "code",
   "execution_count": 3,
   "metadata": {},
   "outputs": [],
   "source": [
    "def insignificant_red(val):\n",
    "    color = 'red' if val > 0.05 else None\n",
    "    return 'color: %s' % color"
   ]
  },
  {
   "cell_type": "markdown",
   "metadata": {},
   "source": [
    "<div align=\"center\"><b>------------------------------------------------------------------------------------------------------------------------------------------------------------------------------------------------</b></div>"
   ]
  },
  {
   "cell_type": "markdown",
   "metadata": {},
   "source": [
    "## 2) Import data"
   ]
  },
  {
   "cell_type": "code",
   "execution_count": 4,
   "metadata": {},
   "outputs": [],
   "source": [
    "from sklearn.datasets import load_boston"
   ]
  },
  {
   "cell_type": "code",
   "execution_count": 5,
   "metadata": {},
   "outputs": [
    {
     "name": "stdout",
     "output_type": "stream",
     "text": [
      "(506, 14)\n"
     ]
    },
    {
     "data": {
      "text/html": [
       "<div>\n",
       "<style scoped>\n",
       "    .dataframe tbody tr th:only-of-type {\n",
       "        vertical-align: middle;\n",
       "    }\n",
       "\n",
       "    .dataframe tbody tr th {\n",
       "        vertical-align: top;\n",
       "    }\n",
       "\n",
       "    .dataframe thead th {\n",
       "        text-align: right;\n",
       "    }\n",
       "</style>\n",
       "<table border=\"1\" class=\"dataframe\">\n",
       "  <thead>\n",
       "    <tr style=\"text-align: right;\">\n",
       "      <th></th>\n",
       "      <th>crim</th>\n",
       "      <th>zn</th>\n",
       "      <th>indus</th>\n",
       "      <th>chas</th>\n",
       "      <th>nox</th>\n",
       "      <th>rm</th>\n",
       "      <th>age</th>\n",
       "      <th>dis</th>\n",
       "      <th>rad</th>\n",
       "      <th>tax</th>\n",
       "      <th>ptratio</th>\n",
       "      <th>black</th>\n",
       "      <th>lstat</th>\n",
       "      <th>medv</th>\n",
       "    </tr>\n",
       "  </thead>\n",
       "  <tbody>\n",
       "    <tr>\n",
       "      <th>0</th>\n",
       "      <td>0.00632</td>\n",
       "      <td>18.0</td>\n",
       "      <td>2.31</td>\n",
       "      <td>0.0</td>\n",
       "      <td>0.538</td>\n",
       "      <td>6.575</td>\n",
       "      <td>65.2</td>\n",
       "      <td>4.0900</td>\n",
       "      <td>1.0</td>\n",
       "      <td>296.0</td>\n",
       "      <td>15.3</td>\n",
       "      <td>396.90</td>\n",
       "      <td>4.98</td>\n",
       "      <td>24.0</td>\n",
       "    </tr>\n",
       "    <tr>\n",
       "      <th>1</th>\n",
       "      <td>0.02731</td>\n",
       "      <td>0.0</td>\n",
       "      <td>7.07</td>\n",
       "      <td>0.0</td>\n",
       "      <td>0.469</td>\n",
       "      <td>6.421</td>\n",
       "      <td>78.9</td>\n",
       "      <td>4.9671</td>\n",
       "      <td>2.0</td>\n",
       "      <td>242.0</td>\n",
       "      <td>17.8</td>\n",
       "      <td>396.90</td>\n",
       "      <td>9.14</td>\n",
       "      <td>21.6</td>\n",
       "    </tr>\n",
       "    <tr>\n",
       "      <th>2</th>\n",
       "      <td>0.02729</td>\n",
       "      <td>0.0</td>\n",
       "      <td>7.07</td>\n",
       "      <td>0.0</td>\n",
       "      <td>0.469</td>\n",
       "      <td>7.185</td>\n",
       "      <td>61.1</td>\n",
       "      <td>4.9671</td>\n",
       "      <td>2.0</td>\n",
       "      <td>242.0</td>\n",
       "      <td>17.8</td>\n",
       "      <td>392.83</td>\n",
       "      <td>4.03</td>\n",
       "      <td>34.7</td>\n",
       "    </tr>\n",
       "    <tr>\n",
       "      <th>3</th>\n",
       "      <td>0.03237</td>\n",
       "      <td>0.0</td>\n",
       "      <td>2.18</td>\n",
       "      <td>0.0</td>\n",
       "      <td>0.458</td>\n",
       "      <td>6.998</td>\n",
       "      <td>45.8</td>\n",
       "      <td>6.0622</td>\n",
       "      <td>3.0</td>\n",
       "      <td>222.0</td>\n",
       "      <td>18.7</td>\n",
       "      <td>394.63</td>\n",
       "      <td>2.94</td>\n",
       "      <td>33.4</td>\n",
       "    </tr>\n",
       "    <tr>\n",
       "      <th>4</th>\n",
       "      <td>0.06905</td>\n",
       "      <td>0.0</td>\n",
       "      <td>2.18</td>\n",
       "      <td>0.0</td>\n",
       "      <td>0.458</td>\n",
       "      <td>7.147</td>\n",
       "      <td>54.2</td>\n",
       "      <td>6.0622</td>\n",
       "      <td>3.0</td>\n",
       "      <td>222.0</td>\n",
       "      <td>18.7</td>\n",
       "      <td>396.90</td>\n",
       "      <td>5.33</td>\n",
       "      <td>36.2</td>\n",
       "    </tr>\n",
       "  </tbody>\n",
       "</table>\n",
       "</div>"
      ],
      "text/plain": [
       "      crim    zn  indus  chas    nox     rm   age     dis  rad    tax  \\\n",
       "0  0.00632  18.0   2.31   0.0  0.538  6.575  65.2  4.0900  1.0  296.0   \n",
       "1  0.02731   0.0   7.07   0.0  0.469  6.421  78.9  4.9671  2.0  242.0   \n",
       "2  0.02729   0.0   7.07   0.0  0.469  7.185  61.1  4.9671  2.0  242.0   \n",
       "3  0.03237   0.0   2.18   0.0  0.458  6.998  45.8  6.0622  3.0  222.0   \n",
       "4  0.06905   0.0   2.18   0.0  0.458  7.147  54.2  6.0622  3.0  222.0   \n",
       "\n",
       "   ptratio   black  lstat  medv  \n",
       "0     15.3  396.90   4.98  24.0  \n",
       "1     17.8  396.90   9.14  21.6  \n",
       "2     17.8  392.83   4.03  34.7  \n",
       "3     18.7  394.63   2.94  33.4  \n",
       "4     18.7  396.90   5.33  36.2  "
      ]
     },
     "execution_count": 5,
     "metadata": {},
     "output_type": "execute_result"
    }
   ],
   "source": [
    "boston = load_boston()\n",
    "df = pd.DataFrame(boston.data, columns=boston.feature_names)\n",
    "df['medv'] = boston.target\n",
    "df.columns = map(str.lower, df.columns)\n",
    "df.rename(columns={'b':'black'}, inplace=True)\n",
    "\n",
    "print(df.shape)\n",
    "df.head()"
   ]
  },
  {
   "cell_type": "code",
   "execution_count": 6,
   "metadata": {},
   "outputs": [
    {
     "data": {
      "text/plain": [
       "False"
      ]
     },
     "execution_count": 6,
     "metadata": {},
     "output_type": "execute_result"
    }
   ],
   "source": [
    "# Check for missing values\n",
    "df.isna().any().any()"
   ]
  },
  {
   "cell_type": "code",
   "execution_count": 7,
   "metadata": {},
   "outputs": [
    {
     "name": "stdout",
     "output_type": "stream",
     "text": [
      "<class 'pandas.core.frame.DataFrame'>\n",
      "RangeIndex: 506 entries, 0 to 505\n",
      "Data columns (total 14 columns):\n",
      " #   Column   Non-Null Count  Dtype  \n",
      "---  ------   --------------  -----  \n",
      " 0   crim     506 non-null    float64\n",
      " 1   zn       506 non-null    float64\n",
      " 2   indus    506 non-null    float64\n",
      " 3   chas     506 non-null    float64\n",
      " 4   nox      506 non-null    float64\n",
      " 5   rm       506 non-null    float64\n",
      " 6   age      506 non-null    float64\n",
      " 7   dis      506 non-null    float64\n",
      " 8   rad      506 non-null    float64\n",
      " 9   tax      506 non-null    float64\n",
      " 10  ptratio  506 non-null    float64\n",
      " 11  black    506 non-null    float64\n",
      " 12  lstat    506 non-null    float64\n",
      " 13  medv     506 non-null    float64\n",
      "dtypes: float64(14)\n",
      "memory usage: 55.5 KB\n"
     ]
    }
   ],
   "source": [
    "# Structure of data\n",
    "df.info()"
   ]
  },
  {
   "cell_type": "markdown",
   "metadata": {},
   "source": [
    "All of the columns are of a numerical natue and have been recongnized as such by Python. With that and no missing values, prima facie, the data appears to be complete."
   ]
  },
  {
   "cell_type": "markdown",
   "metadata": {},
   "source": [
    "[go to toc](#index)"
   ]
  },
  {
   "cell_type": "markdown",
   "metadata": {},
   "source": [
    "<b>------------------------------------------------------------------------------------------------------------------------------------------------------------------------------------------------</b>"
   ]
  },
  {
   "cell_type": "markdown",
   "metadata": {},
   "source": [
    "## a) SLR with each predictor\n",
    "For each predictor, fit a simple linear regression model to predict the response. Describe your results. In which of the models is there a statistically significant association between the predictor and the response? Create some plots to back up your assertions."
   ]
  },
  {
   "cell_type": "markdown",
   "metadata": {},
   "source": [
    "### Models"
   ]
  },
  {
   "cell_type": "code",
   "execution_count": 8,
   "metadata": {},
   "outputs": [],
   "source": [
    "xvars = [x for x in df.columns if x not in ['crim']]\n",
    "\n",
    "# A dataframe to store critical results\n",
    "crim_slr_res = pd.DataFrame(columns=['rsq', 'coef', 'pvalue'], index=xvars)\n",
    "\n",
    "# A dictionary to store the model results\n",
    "crim_slr_models = {x:smf.ols(f'crim ~ {x}', data=df).fit() for x in xvars}\n",
    "\n",
    "# Adding values to result dataframe\n",
    "for model in crim_slr_models:\n",
    "    crim_slr_res.loc[model] = [crim_slr_models[model].rsquared,\n",
    "                               crim_slr_models[model].params[model], \n",
    "                               crim_slr_models[model].pvalues[model]]"
   ]
  },
  {
   "cell_type": "code",
   "execution_count": 9,
   "metadata": {},
   "outputs": [
    {
     "data": {
      "text/html": [
       "<div>\n",
       "<style scoped>\n",
       "    .dataframe tbody tr th:only-of-type {\n",
       "        vertical-align: middle;\n",
       "    }\n",
       "\n",
       "    .dataframe tbody tr th {\n",
       "        vertical-align: top;\n",
       "    }\n",
       "\n",
       "    .dataframe thead th {\n",
       "        text-align: right;\n",
       "    }\n",
       "</style>\n",
       "<table border=\"1\" class=\"dataframe\">\n",
       "  <thead>\n",
       "    <tr style=\"text-align: right;\">\n",
       "      <th></th>\n",
       "      <th>rsq</th>\n",
       "      <th>coef</th>\n",
       "      <th>pvalue</th>\n",
       "    </tr>\n",
       "  </thead>\n",
       "  <tbody>\n",
       "    <tr>\n",
       "      <th>rad</th>\n",
       "      <td>0.39126</td>\n",
       "      <td>0.61791</td>\n",
       "      <td>0.00000</td>\n",
       "    </tr>\n",
       "    <tr>\n",
       "      <th>tax</th>\n",
       "      <td>0.33961</td>\n",
       "      <td>0.02974</td>\n",
       "      <td>0.00000</td>\n",
       "    </tr>\n",
       "    <tr>\n",
       "      <th>lstat</th>\n",
       "      <td>0.20759</td>\n",
       "      <td>0.54880</td>\n",
       "      <td>0.00000</td>\n",
       "    </tr>\n",
       "    <tr>\n",
       "      <th>nox</th>\n",
       "      <td>0.17722</td>\n",
       "      <td>31.24853</td>\n",
       "      <td>0.00000</td>\n",
       "    </tr>\n",
       "    <tr>\n",
       "      <th>indus</th>\n",
       "      <td>0.16531</td>\n",
       "      <td>0.50978</td>\n",
       "      <td>0.00000</td>\n",
       "    </tr>\n",
       "    <tr>\n",
       "      <th>medv</th>\n",
       "      <td>0.15078</td>\n",
       "      <td>-0.36316</td>\n",
       "      <td>0.00000</td>\n",
       "    </tr>\n",
       "    <tr>\n",
       "      <th>black</th>\n",
       "      <td>0.14827</td>\n",
       "      <td>-0.03628</td>\n",
       "      <td>0.00000</td>\n",
       "    </tr>\n",
       "    <tr>\n",
       "      <th>dis</th>\n",
       "      <td>0.14415</td>\n",
       "      <td>-1.55090</td>\n",
       "      <td>0.00000</td>\n",
       "    </tr>\n",
       "    <tr>\n",
       "      <th>age</th>\n",
       "      <td>0.12442</td>\n",
       "      <td>0.10779</td>\n",
       "      <td>0.00000</td>\n",
       "    </tr>\n",
       "    <tr>\n",
       "      <th>ptratio</th>\n",
       "      <td>0.08407</td>\n",
       "      <td>1.15198</td>\n",
       "      <td>0.00000</td>\n",
       "    </tr>\n",
       "    <tr>\n",
       "      <th>rm</th>\n",
       "      <td>0.04807</td>\n",
       "      <td>-2.68405</td>\n",
       "      <td>0.00000</td>\n",
       "    </tr>\n",
       "    <tr>\n",
       "      <th>zn</th>\n",
       "      <td>0.04019</td>\n",
       "      <td>-0.07393</td>\n",
       "      <td>0.00001</td>\n",
       "    </tr>\n",
       "    <tr>\n",
       "      <th>chas</th>\n",
       "      <td>0.00312</td>\n",
       "      <td>-1.89278</td>\n",
       "      <td>0.20943</td>\n",
       "    </tr>\n",
       "  </tbody>\n",
       "</table>\n",
       "</div>"
      ],
      "text/plain": [
       "             rsq      coef   pvalue\n",
       "rad      0.39126   0.61791  0.00000\n",
       "tax      0.33961   0.02974  0.00000\n",
       "lstat    0.20759   0.54880  0.00000\n",
       "nox      0.17722  31.24853  0.00000\n",
       "indus    0.16531   0.50978  0.00000\n",
       "medv     0.15078  -0.36316  0.00000\n",
       "black    0.14827  -0.03628  0.00000\n",
       "dis      0.14415  -1.55090  0.00000\n",
       "age      0.12442   0.10779  0.00000\n",
       "ptratio  0.08407   1.15198  0.00000\n",
       "rm       0.04807  -2.68405  0.00000\n",
       "zn       0.04019  -0.07393  0.00001\n",
       "chas     0.00312  -1.89278  0.20943"
      ]
     },
     "execution_count": 9,
     "metadata": {},
     "output_type": "execute_result"
    }
   ],
   "source": [
    "crim_slr = crim_slr_res.astype('float').round(5)\n",
    "crim_slr.sort_values(by='rsq', ascending=False)"
   ]
  },
  {
   "cell_type": "code",
   "execution_count": 10,
   "metadata": {},
   "outputs": [
    {
     "data": {
      "text/html": [
       "<div>\n",
       "<style scoped>\n",
       "    .dataframe tbody tr th:only-of-type {\n",
       "        vertical-align: middle;\n",
       "    }\n",
       "\n",
       "    .dataframe tbody tr th {\n",
       "        vertical-align: top;\n",
       "    }\n",
       "\n",
       "    .dataframe thead th {\n",
       "        text-align: right;\n",
       "    }\n",
       "</style>\n",
       "<table border=\"1\" class=\"dataframe\">\n",
       "  <thead>\n",
       "    <tr style=\"text-align: right;\">\n",
       "      <th></th>\n",
       "      <th>rsq</th>\n",
       "      <th>coef</th>\n",
       "      <th>pvalue</th>\n",
       "    </tr>\n",
       "  </thead>\n",
       "  <tbody>\n",
       "    <tr>\n",
       "      <th>chas</th>\n",
       "      <td>0.00312</td>\n",
       "      <td>-1.89278</td>\n",
       "      <td>0.20943</td>\n",
       "    </tr>\n",
       "  </tbody>\n",
       "</table>\n",
       "</div>"
      ],
      "text/plain": [
       "          rsq     coef   pvalue\n",
       "chas  0.00312 -1.89278  0.20943"
      ]
     },
     "execution_count": 10,
     "metadata": {},
     "output_type": "execute_result"
    }
   ],
   "source": [
    "# p-value > 5%\n",
    "crim_slr[crim_slr.pvalue > 0.05]"
   ]
  },
  {
   "cell_type": "markdown",
   "metadata": {},
   "source": [
    "<div class=\"alert alert-block alert-info\">\n",
    "    crim has a statistically significant linear relationship (at $\\alpha$ = 5%) with every predictor except chas.\n",
    "</div>"
   ]
  },
  {
   "cell_type": "markdown",
   "metadata": {},
   "source": [
    "### Plots"
   ]
  },
  {
   "cell_type": "code",
   "execution_count": 11,
   "metadata": {},
   "outputs": [
    {
     "data": {
      "image/png": "[encoded data removed]",
      "text/plain": [
       "<Figure size 1224x1008 with 13 Axes>"
      ]
     },
     "metadata": {},
     "output_type": "display_data"
    }
   ],
   "source": [
    "plt.figure(figsize=(17,14))\n",
    "for i,x in enumerate(xvars):\n",
    "    plt.subplot(4, 4, i+1)\n",
    "    sns.scatterplot(x=x, y='crim', data=df)\n",
    "    plt.plot(df[x], crim_slr_models[x].fittedvalues, lw=0.7, color='r')\n",
    "    plt.title(x)\n",
    "    plt.xlabel('')\n",
    "plt.subplots_adjust(hspace=0.3, wspace=0.3)"
   ]
  },
  {
   "cell_type": "markdown",
   "metadata": {},
   "source": [
    "[go to toc](#index)"
   ]
  },
  {
   "cell_type": "markdown",
   "metadata": {},
   "source": [
    "<div align=\"center\"><b>------------------------------------------------------------------------------------------------------------------------------------------------------------------------------------------------</b></div>"
   ]
  },
  {
   "cell_type": "markdown",
   "metadata": {},
   "source": [
    "## b) Multiple Linear Regression\n",
    "Fit a multiple regression model to predict the response using all of the predictors. \n",
    "Describe your results. For which predictors can we reject the null hypothesis $H_0 : \\beta_j = 0$ ?"
   ]
  },
  {
   "cell_type": "code",
   "execution_count": 12,
   "metadata": {},
   "outputs": [
    {
     "data": {
      "text/plain": [
       "'crim ~ zn + indus + chas + nox + rm + age + dis + rad + tax + ptratio + black + lstat + medv'"
      ]
     },
     "execution_count": 12,
     "metadata": {},
     "output_type": "execute_result"
    }
   ],
   "source": [
    "formula_str = 'crim ~ ' + ' + '.join(xvars)\n",
    "formula_str"
   ]
  },
  {
   "cell_type": "markdown",
   "metadata": {},
   "source": [
    "### Model"
   ]
  },
  {
   "cell_type": "code",
   "execution_count": 13,
   "metadata": {},
   "outputs": [
    {
     "data": {
      "text/html": [
       "<table class=\"simpletable\">\n",
       "<caption>OLS Regression Results</caption>\n",
       "<tr>\n",
       "  <th>Dep. Variable:</th>          <td>crim</td>       <th>  R-squared:         </th> <td>   0.454</td>\n",
       "</tr>\n",
       "<tr>\n",
       "  <th>Model:</th>                   <td>OLS</td>       <th>  Adj. R-squared:    </th> <td>   0.440</td>\n",
       "</tr>\n",
       "<tr>\n",
       "  <th>Method:</th>             <td>Least Squares</td>  <th>  F-statistic:       </th> <td>   31.47</td>\n",
       "</tr>\n",
       "<tr>\n",
       "  <th>Date:</th>             <td>Sun, 21 Mar 2021</td> <th>  Prob (F-statistic):</th> <td>1.57e-56</td>\n",
       "</tr>\n",
       "<tr>\n",
       "  <th>Time:</th>                 <td>09:55:16</td>     <th>  Log-Likelihood:    </th> <td> -1653.3</td>\n",
       "</tr>\n",
       "<tr>\n",
       "  <th>No. Observations:</th>      <td>   506</td>      <th>  AIC:               </th> <td>   3335.</td>\n",
       "</tr>\n",
       "<tr>\n",
       "  <th>Df Residuals:</th>          <td>   492</td>      <th>  BIC:               </th> <td>   3394.</td>\n",
       "</tr>\n",
       "<tr>\n",
       "  <th>Df Model:</th>              <td>    13</td>      <th>                     </th>     <td> </td>   \n",
       "</tr>\n",
       "<tr>\n",
       "  <th>Covariance Type:</th>      <td>nonrobust</td>    <th>                     </th>     <td> </td>   \n",
       "</tr>\n",
       "</table>\n",
       "<table class=\"simpletable\">\n",
       "<tr>\n",
       "      <td></td>         <th>coef</th>     <th>std err</th>      <th>t</th>      <th>P>|t|</th>  <th>[0.025</th>    <th>0.975]</th>  \n",
       "</tr>\n",
       "<tr>\n",
       "  <th>Intercept</th> <td>   17.0332</td> <td>    7.235</td> <td>    2.354</td> <td> 0.019</td> <td>    2.818</td> <td>   31.248</td>\n",
       "</tr>\n",
       "<tr>\n",
       "  <th>zn</th>        <td>    0.0449</td> <td>    0.019</td> <td>    2.394</td> <td> 0.017</td> <td>    0.008</td> <td>    0.082</td>\n",
       "</tr>\n",
       "<tr>\n",
       "  <th>indus</th>     <td>   -0.0639</td> <td>    0.083</td> <td>   -0.766</td> <td> 0.444</td> <td>   -0.228</td> <td>    0.100</td>\n",
       "</tr>\n",
       "<tr>\n",
       "  <th>chas</th>      <td>   -0.7491</td> <td>    1.180</td> <td>   -0.635</td> <td> 0.526</td> <td>   -3.068</td> <td>    1.570</td>\n",
       "</tr>\n",
       "<tr>\n",
       "  <th>nox</th>       <td>  -10.3135</td> <td>    5.276</td> <td>   -1.955</td> <td> 0.051</td> <td>  -20.679</td> <td>    0.052</td>\n",
       "</tr>\n",
       "<tr>\n",
       "  <th>rm</th>        <td>    0.4301</td> <td>    0.613</td> <td>    0.702</td> <td> 0.483</td> <td>   -0.774</td> <td>    1.634</td>\n",
       "</tr>\n",
       "<tr>\n",
       "  <th>age</th>       <td>    0.0015</td> <td>    0.018</td> <td>    0.081</td> <td> 0.935</td> <td>   -0.034</td> <td>    0.037</td>\n",
       "</tr>\n",
       "<tr>\n",
       "  <th>dis</th>       <td>   -0.9872</td> <td>    0.282</td> <td>   -3.503</td> <td> 0.001</td> <td>   -1.541</td> <td>   -0.433</td>\n",
       "</tr>\n",
       "<tr>\n",
       "  <th>rad</th>       <td>    0.5882</td> <td>    0.088</td> <td>    6.680</td> <td> 0.000</td> <td>    0.415</td> <td>    0.761</td>\n",
       "</tr>\n",
       "<tr>\n",
       "  <th>tax</th>       <td>   -0.0038</td> <td>    0.005</td> <td>   -0.733</td> <td> 0.464</td> <td>   -0.014</td> <td>    0.006</td>\n",
       "</tr>\n",
       "<tr>\n",
       "  <th>ptratio</th>   <td>   -0.2711</td> <td>    0.186</td> <td>   -1.454</td> <td> 0.147</td> <td>   -0.637</td> <td>    0.095</td>\n",
       "</tr>\n",
       "<tr>\n",
       "  <th>black</th>     <td>   -0.0075</td> <td>    0.004</td> <td>   -2.052</td> <td> 0.041</td> <td>   -0.015</td> <td>   -0.000</td>\n",
       "</tr>\n",
       "<tr>\n",
       "  <th>lstat</th>     <td>    0.1262</td> <td>    0.076</td> <td>    1.667</td> <td> 0.096</td> <td>   -0.023</td> <td>    0.275</td>\n",
       "</tr>\n",
       "<tr>\n",
       "  <th>medv</th>      <td>   -0.1989</td> <td>    0.061</td> <td>   -3.287</td> <td> 0.001</td> <td>   -0.318</td> <td>   -0.080</td>\n",
       "</tr>\n",
       "</table>\n",
       "<table class=\"simpletable\">\n",
       "<tr>\n",
       "  <th>Omnibus:</th>       <td>666.613</td> <th>  Durbin-Watson:     </th> <td>   1.519</td> \n",
       "</tr>\n",
       "<tr>\n",
       "  <th>Prob(Omnibus):</th> <td> 0.000</td>  <th>  Jarque-Bera (JB):  </th> <td>84887.625</td>\n",
       "</tr>\n",
       "<tr>\n",
       "  <th>Skew:</th>          <td> 6.617</td>  <th>  Prob(JB):          </th> <td>    0.00</td> \n",
       "</tr>\n",
       "<tr>\n",
       "  <th>Kurtosis:</th>      <td>65.058</td>  <th>  Cond. No.          </th> <td>1.58e+04</td> \n",
       "</tr>\n",
       "</table><br/><br/>Notes:<br/>[1] Standard Errors assume that the covariance matrix of the errors is correctly specified.<br/>[2] The condition number is large, 1.58e+04. This might indicate that there are<br/>strong multicollinearity or other numerical problems."
      ],
      "text/plain": [
       "<class 'statsmodels.iolib.summary.Summary'>\n",
       "\"\"\"\n",
       "                            OLS Regression Results                            \n",
       "==============================================================================\n",
       "Dep. Variable:                   crim   R-squared:                       0.454\n",
       "Model:                            OLS   Adj. R-squared:                  0.440\n",
       "Method:                 Least Squares   F-statistic:                     31.47\n",
       "Date:                Sun, 21 Mar 2021   Prob (F-statistic):           1.57e-56\n",
       "Time:                        09:55:16   Log-Likelihood:                -1653.3\n",
       "No. Observations:                 506   AIC:                             3335.\n",
       "Df Residuals:                     492   BIC:                             3394.\n",
       "Df Model:                          13                                         \n",
       "Covariance Type:            nonrobust                                         \n",
       "==============================================================================\n",
       "                 coef    std err          t      P>|t|      [0.025      0.975]\n",
       "------------------------------------------------------------------------------\n",
       "Intercept     17.0332      7.235      2.354      0.019       2.818      31.248\n",
       "zn             0.0449      0.019      2.394      0.017       0.008       0.082\n",
       "indus         -0.0639      0.083     -0.766      0.444      -0.228       0.100\n",
       "chas          -0.7491      1.180     -0.635      0.526      -3.068       1.570\n",
       "nox          -10.3135      5.276     -1.955      0.051     -20.679       0.052\n",
       "rm             0.4301      0.613      0.702      0.483      -0.774       1.634\n",
       "age            0.0015      0.018      0.081      0.935      -0.034       0.037\n",
       "dis           -0.9872      0.282     -3.503      0.001      -1.541      -0.433\n",
       "rad            0.5882      0.088      6.680      0.000       0.415       0.761\n",
       "tax           -0.0038      0.005     -0.733      0.464      -0.014       0.006\n",
       "ptratio       -0.2711      0.186     -1.454      0.147      -0.637       0.095\n",
       "black         -0.0075      0.004     -2.052      0.041      -0.015      -0.000\n",
       "lstat          0.1262      0.076      1.667      0.096      -0.023       0.275\n",
       "medv          -0.1989      0.061     -3.287      0.001      -0.318      -0.080\n",
       "==============================================================================\n",
       "Omnibus:                      666.613   Durbin-Watson:                   1.519\n",
       "Prob(Omnibus):                  0.000   Jarque-Bera (JB):            84887.625\n",
       "Skew:                           6.617   Prob(JB):                         0.00\n",
       "Kurtosis:                      65.058   Cond. No.                     1.58e+04\n",
       "==============================================================================\n",
       "\n",
       "Notes:\n",
       "[1] Standard Errors assume that the covariance matrix of the errors is correctly specified.\n",
       "[2] The condition number is large, 1.58e+04. This might indicate that there are\n",
       "strong multicollinearity or other numerical problems.\n",
       "\"\"\""
      ]
     },
     "execution_count": 13,
     "metadata": {},
     "output_type": "execute_result"
    }
   ],
   "source": [
    "mreg1 = smf.ols(formula_str, data=df).fit()\n",
    "mreg1.summary()"
   ]
  },
  {
   "cell_type": "markdown",
   "metadata": {},
   "source": [
    "### Statistically insignificant predictors"
   ]
  },
  {
   "cell_type": "code",
   "execution_count": 14,
   "metadata": {},
   "outputs": [
    {
     "data": {
      "text/html": [
       "<div>\n",
       "<style scoped>\n",
       "    .dataframe tbody tr th:only-of-type {\n",
       "        vertical-align: middle;\n",
       "    }\n",
       "\n",
       "    .dataframe tbody tr th {\n",
       "        vertical-align: top;\n",
       "    }\n",
       "\n",
       "    .dataframe thead th {\n",
       "        text-align: right;\n",
       "    }\n",
       "</style>\n",
       "<table border=\"1\" class=\"dataframe\">\n",
       "  <thead>\n",
       "    <tr style=\"text-align: right;\">\n",
       "      <th></th>\n",
       "      <th>coef</th>\n",
       "      <th>pvalue</th>\n",
       "    </tr>\n",
       "  </thead>\n",
       "  <tbody>\n",
       "    <tr>\n",
       "      <th>indus</th>\n",
       "      <td>-0.0639</td>\n",
       "      <td>0.4443</td>\n",
       "    </tr>\n",
       "    <tr>\n",
       "      <th>chas</th>\n",
       "      <td>-0.7491</td>\n",
       "      <td>0.5259</td>\n",
       "    </tr>\n",
       "    <tr>\n",
       "      <th>nox</th>\n",
       "      <td>-10.3135</td>\n",
       "      <td>0.0512</td>\n",
       "    </tr>\n",
       "    <tr>\n",
       "      <th>rm</th>\n",
       "      <td>0.4301</td>\n",
       "      <td>0.4831</td>\n",
       "    </tr>\n",
       "    <tr>\n",
       "      <th>age</th>\n",
       "      <td>0.0015</td>\n",
       "      <td>0.9355</td>\n",
       "    </tr>\n",
       "    <tr>\n",
       "      <th>tax</th>\n",
       "      <td>-0.0038</td>\n",
       "      <td>0.4638</td>\n",
       "    </tr>\n",
       "    <tr>\n",
       "      <th>ptratio</th>\n",
       "      <td>-0.2711</td>\n",
       "      <td>0.1466</td>\n",
       "    </tr>\n",
       "    <tr>\n",
       "      <th>lstat</th>\n",
       "      <td>0.1262</td>\n",
       "      <td>0.0962</td>\n",
       "    </tr>\n",
       "  </tbody>\n",
       "</table>\n",
       "</div>"
      ],
      "text/plain": [
       "            coef  pvalue\n",
       "indus    -0.0639  0.4443\n",
       "chas     -0.7491  0.5259\n",
       "nox     -10.3135  0.0512\n",
       "rm        0.4301  0.4831\n",
       "age       0.0015  0.9355\n",
       "tax      -0.0038  0.4638\n",
       "ptratio  -0.2711  0.1466\n",
       "lstat     0.1262  0.0962"
      ]
     },
     "execution_count": 14,
     "metadata": {},
     "output_type": "execute_result"
    }
   ],
   "source": [
    "# Statistically insignificant predictors\n",
    "pd.concat([mreg1.params[mreg1.pvalues > 0.05], mreg1.pvalues[mreg1.pvalues > 0.05]], axis=1,\n",
    "         keys=['coef','pvalue']).round(4)"
   ]
  },
  {
   "cell_type": "markdown",
   "metadata": {},
   "source": [
    "We can reject the &ensp; $H_0 : \\beta_j = 0$ at $\\alpha = 0.05$ &ensp; for the above predictors."
   ]
  },
  {
   "cell_type": "markdown",
   "metadata": {},
   "source": [
    "### Statistically significant"
   ]
  },
  {
   "cell_type": "code",
   "execution_count": 15,
   "metadata": {},
   "outputs": [
    {
     "data": {
      "text/html": [
       "<div>\n",
       "<style scoped>\n",
       "    .dataframe tbody tr th:only-of-type {\n",
       "        vertical-align: middle;\n",
       "    }\n",
       "\n",
       "    .dataframe tbody tr th {\n",
       "        vertical-align: top;\n",
       "    }\n",
       "\n",
       "    .dataframe thead th {\n",
       "        text-align: right;\n",
       "    }\n",
       "</style>\n",
       "<table border=\"1\" class=\"dataframe\">\n",
       "  <thead>\n",
       "    <tr style=\"text-align: right;\">\n",
       "      <th></th>\n",
       "      <th>coef</th>\n",
       "      <th>pvalue</th>\n",
       "    </tr>\n",
       "  </thead>\n",
       "  <tbody>\n",
       "    <tr>\n",
       "      <th>Intercept</th>\n",
       "      <td>17.0332</td>\n",
       "      <td>0.0189</td>\n",
       "    </tr>\n",
       "    <tr>\n",
       "      <th>zn</th>\n",
       "      <td>0.0449</td>\n",
       "      <td>0.0170</td>\n",
       "    </tr>\n",
       "    <tr>\n",
       "      <th>dis</th>\n",
       "      <td>-0.9872</td>\n",
       "      <td>0.0005</td>\n",
       "    </tr>\n",
       "    <tr>\n",
       "      <th>rad</th>\n",
       "      <td>0.5882</td>\n",
       "      <td>0.0000</td>\n",
       "    </tr>\n",
       "    <tr>\n",
       "      <th>black</th>\n",
       "      <td>-0.0075</td>\n",
       "      <td>0.0407</td>\n",
       "    </tr>\n",
       "    <tr>\n",
       "      <th>medv</th>\n",
       "      <td>-0.1989</td>\n",
       "      <td>0.0011</td>\n",
       "    </tr>\n",
       "  </tbody>\n",
       "</table>\n",
       "</div>"
      ],
      "text/plain": [
       "              coef  pvalue\n",
       "Intercept  17.0332  0.0189\n",
       "zn          0.0449  0.0170\n",
       "dis        -0.9872  0.0005\n",
       "rad         0.5882  0.0000\n",
       "black      -0.0075  0.0407\n",
       "medv       -0.1989  0.0011"
      ]
     },
     "execution_count": 15,
     "metadata": {},
     "output_type": "execute_result"
    }
   ],
   "source": [
    "# Statistically significant predictors\n",
    "pd.concat([mreg1.params[mreg1.pvalues < 0.05], mreg1.pvalues[mreg1.pvalues < 0.05]], axis=1,\n",
    "         keys=['coef','pvalue']).round(4)"
   ]
  },
  {
   "cell_type": "markdown",
   "metadata": {},
   "source": [
    "[go to toc](#index)"
   ]
  },
  {
   "cell_type": "markdown",
   "metadata": {},
   "source": [
    "<div align=\"center\"><b>------------------------------------------------------------------------------------------------------------------------------------------------------------------------------------------------</b></div>"
   ]
  },
  {
   "cell_type": "markdown",
   "metadata": {},
   "source": [
    "## c) Coefficient comparison - SLR vs MLR\n",
    "How do your results from (a) compare to your results from (b)? \n",
    "Create a plot displaying the univariate regression coefficients from (a) on the x-axis, and the multiple regression coefficients from (b) on the y-axis. \n",
    "That is, each predictor is displayed as a single point in the plot. \n",
    "Its coefficient in a simple linear regression model is shown on the x-axis, and its coefficient estimate in the multiple linear regression model is shown on the y-axis."
   ]
  },
  {
   "cell_type": "code",
   "execution_count": 16,
   "metadata": {},
   "outputs": [
    {
     "data": {
      "text/html": [
       "<div>\n",
       "<style scoped>\n",
       "    .dataframe tbody tr th:only-of-type {\n",
       "        vertical-align: middle;\n",
       "    }\n",
       "\n",
       "    .dataframe tbody tr th {\n",
       "        vertical-align: top;\n",
       "    }\n",
       "\n",
       "    .dataframe thead th {\n",
       "        text-align: right;\n",
       "    }\n",
       "</style>\n",
       "<table border=\"1\" class=\"dataframe\">\n",
       "  <thead>\n",
       "    <tr style=\"text-align: right;\">\n",
       "      <th></th>\n",
       "      <th>slr</th>\n",
       "      <th>mlr</th>\n",
       "      <th>diff</th>\n",
       "    </tr>\n",
       "  </thead>\n",
       "  <tbody>\n",
       "    <tr>\n",
       "      <th>zn</th>\n",
       "      <td>-0.0739</td>\n",
       "      <td>0.0449</td>\n",
       "      <td>0.1188</td>\n",
       "    </tr>\n",
       "    <tr>\n",
       "      <th>indus</th>\n",
       "      <td>0.5098</td>\n",
       "      <td>-0.0639</td>\n",
       "      <td>-0.5736</td>\n",
       "    </tr>\n",
       "    <tr>\n",
       "      <th>chas</th>\n",
       "      <td>-1.8928</td>\n",
       "      <td>-0.7491</td>\n",
       "      <td>1.1436</td>\n",
       "    </tr>\n",
       "    <tr>\n",
       "      <th>nox</th>\n",
       "      <td>31.2485</td>\n",
       "      <td>-10.3135</td>\n",
       "      <td>-41.5621</td>\n",
       "    </tr>\n",
       "    <tr>\n",
       "      <th>rm</th>\n",
       "      <td>-2.6840</td>\n",
       "      <td>0.4301</td>\n",
       "      <td>3.1142</td>\n",
       "    </tr>\n",
       "    <tr>\n",
       "      <th>age</th>\n",
       "      <td>0.1078</td>\n",
       "      <td>0.0015</td>\n",
       "      <td>-0.1063</td>\n",
       "    </tr>\n",
       "    <tr>\n",
       "      <th>dis</th>\n",
       "      <td>-1.5509</td>\n",
       "      <td>-0.9872</td>\n",
       "      <td>0.5637</td>\n",
       "    </tr>\n",
       "    <tr>\n",
       "      <th>rad</th>\n",
       "      <td>0.6179</td>\n",
       "      <td>0.5882</td>\n",
       "      <td>-0.0297</td>\n",
       "    </tr>\n",
       "    <tr>\n",
       "      <th>tax</th>\n",
       "      <td>0.0297</td>\n",
       "      <td>-0.0038</td>\n",
       "      <td>-0.0335</td>\n",
       "    </tr>\n",
       "    <tr>\n",
       "      <th>ptratio</th>\n",
       "      <td>1.1520</td>\n",
       "      <td>-0.2711</td>\n",
       "      <td>-1.4231</td>\n",
       "    </tr>\n",
       "    <tr>\n",
       "      <th>black</th>\n",
       "      <td>-0.0363</td>\n",
       "      <td>-0.0075</td>\n",
       "      <td>0.0287</td>\n",
       "    </tr>\n",
       "    <tr>\n",
       "      <th>lstat</th>\n",
       "      <td>0.5488</td>\n",
       "      <td>0.1262</td>\n",
       "      <td>-0.4226</td>\n",
       "    </tr>\n",
       "    <tr>\n",
       "      <th>medv</th>\n",
       "      <td>-0.3632</td>\n",
       "      <td>-0.1989</td>\n",
       "      <td>0.1643</td>\n",
       "    </tr>\n",
       "  </tbody>\n",
       "</table>\n",
       "</div>"
      ],
      "text/plain": [
       "             slr      mlr     diff\n",
       "zn       -0.0739   0.0449   0.1188\n",
       "indus     0.5098  -0.0639  -0.5736\n",
       "chas     -1.8928  -0.7491   1.1436\n",
       "nox      31.2485 -10.3135 -41.5621\n",
       "rm       -2.6840   0.4301   3.1142\n",
       "age       0.1078   0.0015  -0.1063\n",
       "dis      -1.5509  -0.9872   0.5637\n",
       "rad       0.6179   0.5882  -0.0297\n",
       "tax       0.0297  -0.0038  -0.0335\n",
       "ptratio   1.1520  -0.2711  -1.4231\n",
       "black    -0.0363  -0.0075   0.0287\n",
       "lstat     0.5488   0.1262  -0.4226\n",
       "medv     -0.3632  -0.1989   0.1643"
      ]
     },
     "metadata": {},
     "output_type": "display_data"
    },
    {
     "data": {
      "image/png": "[encoded data removed]",
      "text/plain": [
       "<Figure size 864x432 with 1 Axes>"
      ]
     },
     "metadata": {},
     "output_type": "display_data"
    }
   ],
   "source": [
    "# Coefficients\n",
    "coefs = pd.concat([crim_slr['coef'], mreg1.params[1:]], axis=1, keys=['slr','mlr'])\n",
    "coefs['diff'] = coefs.iloc[:,1] - coefs.iloc[:,0]\n",
    "display(coefs.round(4))\n",
    "\n",
    "ax = coefs.iloc[:,:-1].plot(marker='o', markersize=4, linestyle='--', figsize=(12,6))\n",
    "ax.set_xticks(range(len(xvars)))\n",
    "ax.set_xticklabels(xvars, fontsize=12)\n",
    "ax.margins(y=0.12)\n",
    "ax.set_yticks(range(round(ax.get_ylim()[0]), round(ax.get_ylim()[1]), 5))\n",
    "ax.set_title('SLR coefficients vs MLR coefficients', fontsize=13);"
   ]
  },
  {
   "cell_type": "markdown",
   "metadata": {},
   "source": [
    "### Plot"
   ]
  },
  {
   "cell_type": "code",
   "execution_count": 17,
   "metadata": {},
   "outputs": [
    {
     "data": {
      "image/png": "[encoded data removed]",
      "text/plain": [
       "<Figure size 1080x288 with 2 Axes>"
      ]
     },
     "metadata": {},
     "output_type": "display_data"
    }
   ],
   "source": [
    "plt.figure(figsize=(15,4))\n",
    "\n",
    "# Coefficient scatterplot\n",
    "plt.subplot(121)\n",
    "sns.scatterplot(x=coefs.slr, y=coefs.mlr).set_title('SLR coefficients vs MLR coefficients',fontsize=12)\n",
    "plt.xlabel('SLR coefficients', fontsize=11);\n",
    "plt.ylabel('MLR coefficients', fontsize=11);\n",
    "\n",
    "# Coefficient scatterplot after removing nox\n",
    "plt.subplot(122)\n",
    "plt.gca().set_aspect('equal', adjustable='box')\n",
    "sns.scatterplot(x=coefs.slr.drop('nox'), y=coefs.mlr.drop('nox'))\n",
    "plt.plot([-3,2], [-3,2], lw=0)\n",
    "plt.title('SLR coefficients vs MLR coefficients \\n(except nox)',fontsize=12)\n",
    "plt.xlabel('SLR coefficients', fontsize=11)\n",
    "plt.ylabel('MLR coefficients', fontsize=11);"
   ]
  },
  {
   "cell_type": "markdown",
   "metadata": {},
   "source": [
    "[go to toc](#index)"
   ]
  },
  {
   "cell_type": "markdown",
   "metadata": {},
   "source": [
    "<div align=\"center\"><b>------------------------------------------------------------------------------------------------------------------------------------------------------------------------------------------------</b></div>"
   ]
  },
  {
   "cell_type": "markdown",
   "metadata": {},
   "source": [
    "## d) Non-linear association\n",
    "Is there evidence of non-linear association between any of the predictors and the response? To answer this question, for each predictor X, fit a model of the form &ensp; \n",
    "$Y = \\beta_0 + \\beta_1X + \\beta_2X^2 + \\beta_3X^3 + \\epsilon$"
   ]
  },
  {
   "cell_type": "markdown",
   "metadata": {},
   "source": [
    "### Cubic models"
   ]
  },
  {
   "cell_type": "code",
   "execution_count": 18,
   "metadata": {},
   "outputs": [],
   "source": [
    "# A dataframe to store critical results\n",
    "crim_plr_res = pd.DataFrame(columns=['rsq', 'x_coef', 'x2_coef', 'x3_coef', \n",
    "                                     'x_pval', 'x2_pval',  'x3_pval'], index=xvars)\n",
    "\n",
    "# A dictionary to store the model results\n",
    "crim_plr_models = {x:smf.ols(f'crim ~ {x} + np.square({x}) + np.power({x}, 3)', data=df).fit() \n",
    "                   for x in xvars}\n",
    "\n",
    "# Adding values to result dataframe\n",
    "for model in crim_plr_models:\n",
    "    crim_plr_res.loc[model] = [crim_plr_models[model].rsquared,\n",
    "                               crim_plr_models[model].params[1], crim_plr_models[model].params[2],\n",
    "                               crim_plr_models[model].params[3], crim_plr_models[model].pvalues[1], \n",
    "                               crim_plr_models[model].pvalues[2], crim_plr_models[model].pvalues[3]]"
   ]
  },
  {
   "cell_type": "code",
   "execution_count": 19,
   "metadata": {},
   "outputs": [
    {
     "data": {
      "text/html": [
       "<div>\n",
       "<style scoped>\n",
       "    .dataframe tbody tr th:only-of-type {\n",
       "        vertical-align: middle;\n",
       "    }\n",
       "\n",
       "    .dataframe tbody tr th {\n",
       "        vertical-align: top;\n",
       "    }\n",
       "\n",
       "    .dataframe thead th {\n",
       "        text-align: right;\n",
       "    }\n",
       "</style>\n",
       "<table border=\"1\" class=\"dataframe\">\n",
       "  <thead>\n",
       "    <tr style=\"text-align: right;\">\n",
       "      <th></th>\n",
       "      <th>rsq</th>\n",
       "      <th>x_coef</th>\n",
       "      <th>x2_coef</th>\n",
       "      <th>x3_coef</th>\n",
       "      <th>x_pval</th>\n",
       "      <th>x2_pval</th>\n",
       "      <th>x3_pval</th>\n",
       "      <th>relationship</th>\n",
       "    </tr>\n",
       "  </thead>\n",
       "  <tbody>\n",
       "    <tr>\n",
       "      <th>zn</th>\n",
       "      <td>0.0582</td>\n",
       "      <td>-0.3322</td>\n",
       "      <td>0.0065</td>\n",
       "      <td>-0.0000</td>\n",
       "      <td>0.0026</td>\n",
       "      <td>0.0938</td>\n",
       "      <td>0.2295</td>\n",
       "      <td>linear</td>\n",
       "    </tr>\n",
       "    <tr>\n",
       "      <th>indus</th>\n",
       "      <td>0.2597</td>\n",
       "      <td>-1.9652</td>\n",
       "      <td>0.2519</td>\n",
       "      <td>-0.0070</td>\n",
       "      <td>0.0001</td>\n",
       "      <td>0.0000</td>\n",
       "      <td>0.0000</td>\n",
       "      <td>cubic</td>\n",
       "    </tr>\n",
       "    <tr>\n",
       "      <th>chas</th>\n",
       "      <td>0.0031</td>\n",
       "      <td>-0.6309</td>\n",
       "      <td>-0.6309</td>\n",
       "      <td>-0.6309</td>\n",
       "      <td>0.2094</td>\n",
       "      <td>0.2094</td>\n",
       "      <td>0.2094</td>\n",
       "      <td>-</td>\n",
       "    </tr>\n",
       "    <tr>\n",
       "      <th>nox</th>\n",
       "      <td>0.2970</td>\n",
       "      <td>-1279.3713</td>\n",
       "      <td>2248.5441</td>\n",
       "      <td>-1245.7029</td>\n",
       "      <td>0.0000</td>\n",
       "      <td>0.0000</td>\n",
       "      <td>0.0000</td>\n",
       "      <td>cubic</td>\n",
       "    </tr>\n",
       "    <tr>\n",
       "      <th>rm</th>\n",
       "      <td>0.0678</td>\n",
       "      <td>-39.1501</td>\n",
       "      <td>4.5509</td>\n",
       "      <td>-0.1745</td>\n",
       "      <td>0.2118</td>\n",
       "      <td>0.3641</td>\n",
       "      <td>0.5086</td>\n",
       "      <td>-</td>\n",
       "    </tr>\n",
       "    <tr>\n",
       "      <th>age</th>\n",
       "      <td>0.1742</td>\n",
       "      <td>0.2737</td>\n",
       "      <td>-0.0072</td>\n",
       "      <td>0.0001</td>\n",
       "      <td>0.1427</td>\n",
       "      <td>0.0474</td>\n",
       "      <td>0.0067</td>\n",
       "      <td>cubic</td>\n",
       "    </tr>\n",
       "    <tr>\n",
       "      <th>dis</th>\n",
       "      <td>0.2778</td>\n",
       "      <td>-15.5544</td>\n",
       "      <td>2.4521</td>\n",
       "      <td>-0.1186</td>\n",
       "      <td>0.0000</td>\n",
       "      <td>0.0000</td>\n",
       "      <td>0.0000</td>\n",
       "      <td>cubic</td>\n",
       "    </tr>\n",
       "    <tr>\n",
       "      <th>rad</th>\n",
       "      <td>0.4000</td>\n",
       "      <td>0.5127</td>\n",
       "      <td>-0.0752</td>\n",
       "      <td>0.0032</td>\n",
       "      <td>0.6234</td>\n",
       "      <td>0.6130</td>\n",
       "      <td>0.4823</td>\n",
       "      <td>-</td>\n",
       "    </tr>\n",
       "    <tr>\n",
       "      <th>tax</th>\n",
       "      <td>0.3689</td>\n",
       "      <td>-0.1533</td>\n",
       "      <td>0.0004</td>\n",
       "      <td>-0.0000</td>\n",
       "      <td>0.1097</td>\n",
       "      <td>0.1375</td>\n",
       "      <td>0.2439</td>\n",
       "      <td>-</td>\n",
       "    </tr>\n",
       "    <tr>\n",
       "      <th>ptratio</th>\n",
       "      <td>0.1138</td>\n",
       "      <td>-82.3605</td>\n",
       "      <td>4.6353</td>\n",
       "      <td>-0.0848</td>\n",
       "      <td>0.0030</td>\n",
       "      <td>0.0041</td>\n",
       "      <td>0.0063</td>\n",
       "      <td>cubic</td>\n",
       "    </tr>\n",
       "    <tr>\n",
       "      <th>black</th>\n",
       "      <td>0.1498</td>\n",
       "      <td>-0.0836</td>\n",
       "      <td>0.0002</td>\n",
       "      <td>-0.0000</td>\n",
       "      <td>0.1386</td>\n",
       "      <td>0.4742</td>\n",
       "      <td>0.5436</td>\n",
       "      <td>-</td>\n",
       "    </tr>\n",
       "    <tr>\n",
       "      <th>lstat</th>\n",
       "      <td>0.2179</td>\n",
       "      <td>-0.4491</td>\n",
       "      <td>0.0558</td>\n",
       "      <td>-0.0009</td>\n",
       "      <td>0.3345</td>\n",
       "      <td>0.0646</td>\n",
       "      <td>0.1299</td>\n",
       "      <td>-</td>\n",
       "    </tr>\n",
       "    <tr>\n",
       "      <th>medv</th>\n",
       "      <td>0.4202</td>\n",
       "      <td>-5.0948</td>\n",
       "      <td>0.1555</td>\n",
       "      <td>-0.0015</td>\n",
       "      <td>0.0000</td>\n",
       "      <td>0.0000</td>\n",
       "      <td>0.0000</td>\n",
       "      <td>cubic</td>\n",
       "    </tr>\n",
       "  </tbody>\n",
       "</table>\n",
       "</div>"
      ],
      "text/plain": [
       "            rsq     x_coef    x2_coef    x3_coef  x_pval  x2_pval  x3_pval  \\\n",
       "zn       0.0582    -0.3322     0.0065    -0.0000  0.0026   0.0938   0.2295   \n",
       "indus    0.2597    -1.9652     0.2519    -0.0070  0.0001   0.0000   0.0000   \n",
       "chas     0.0031    -0.6309    -0.6309    -0.6309  0.2094   0.2094   0.2094   \n",
       "nox      0.2970 -1279.3713  2248.5441 -1245.7029  0.0000   0.0000   0.0000   \n",
       "rm       0.0678   -39.1501     4.5509    -0.1745  0.2118   0.3641   0.5086   \n",
       "age      0.1742     0.2737    -0.0072     0.0001  0.1427   0.0474   0.0067   \n",
       "dis      0.2778   -15.5544     2.4521    -0.1186  0.0000   0.0000   0.0000   \n",
       "rad      0.4000     0.5127    -0.0752     0.0032  0.6234   0.6130   0.4823   \n",
       "tax      0.3689    -0.1533     0.0004    -0.0000  0.1097   0.1375   0.2439   \n",
       "ptratio  0.1138   -82.3605     4.6353    -0.0848  0.0030   0.0041   0.0063   \n",
       "black    0.1498    -0.0836     0.0002    -0.0000  0.1386   0.4742   0.5436   \n",
       "lstat    0.2179    -0.4491     0.0558    -0.0009  0.3345   0.0646   0.1299   \n",
       "medv     0.4202    -5.0948     0.1555    -0.0015  0.0000   0.0000   0.0000   \n",
       "\n",
       "        relationship  \n",
       "zn            linear  \n",
       "indus          cubic  \n",
       "chas               -  \n",
       "nox            cubic  \n",
       "rm                 -  \n",
       "age            cubic  \n",
       "dis            cubic  \n",
       "rad                -  \n",
       "tax                -  \n",
       "ptratio        cubic  \n",
       "black              -  \n",
       "lstat              -  \n",
       "medv           cubic  "
      ]
     },
     "execution_count": 19,
     "metadata": {},
     "output_type": "execute_result"
    }
   ],
   "source": [
    "crim_plr = crim_plr_res.astype('float').round(4)\n",
    "crim_plr['relationship'] = crim_plr.apply(lambda x: 'cubic' if x.loc['x3_pval'] < 0.05 else \\\n",
    "                                 'quad' if x.loc['x2_pval'] < 0.05 else \\\n",
    "                                 'linear' if x.loc['x_pval'] < 0.05 else '-', axis=1)\n",
    "crim_plr"
   ]
  },
  {
   "cell_type": "markdown",
   "metadata": {},
   "source": [
    "### Statistically significant"
   ]
  },
  {
   "cell_type": "code",
   "execution_count": 20,
   "metadata": {},
   "outputs": [
    {
     "data": {
      "text/html": [
       "<div>\n",
       "<style scoped>\n",
       "    .dataframe tbody tr th:only-of-type {\n",
       "        vertical-align: middle;\n",
       "    }\n",
       "\n",
       "    .dataframe tbody tr th {\n",
       "        vertical-align: top;\n",
       "    }\n",
       "\n",
       "    .dataframe thead th {\n",
       "        text-align: right;\n",
       "    }\n",
       "</style>\n",
       "<table border=\"1\" class=\"dataframe\">\n",
       "  <thead>\n",
       "    <tr style=\"text-align: right;\">\n",
       "      <th></th>\n",
       "      <th>rsq</th>\n",
       "      <th>x_coef</th>\n",
       "      <th>x2_coef</th>\n",
       "      <th>x3_coef</th>\n",
       "      <th>x_pval</th>\n",
       "      <th>x2_pval</th>\n",
       "      <th>x3_pval</th>\n",
       "      <th>relationship</th>\n",
       "    </tr>\n",
       "  </thead>\n",
       "  <tbody>\n",
       "    <tr>\n",
       "      <th>zn</th>\n",
       "      <td>0.0582</td>\n",
       "      <td>-0.3322</td>\n",
       "      <td>0.0065</td>\n",
       "      <td>-0.0000</td>\n",
       "      <td>0.0026</td>\n",
       "      <td>0.0938</td>\n",
       "      <td>0.2295</td>\n",
       "      <td>linear</td>\n",
       "    </tr>\n",
       "    <tr>\n",
       "      <th>indus</th>\n",
       "      <td>0.2597</td>\n",
       "      <td>-1.9652</td>\n",
       "      <td>0.2519</td>\n",
       "      <td>-0.0070</td>\n",
       "      <td>0.0001</td>\n",
       "      <td>0.0000</td>\n",
       "      <td>0.0000</td>\n",
       "      <td>cubic</td>\n",
       "    </tr>\n",
       "    <tr>\n",
       "      <th>nox</th>\n",
       "      <td>0.2970</td>\n",
       "      <td>-1279.3713</td>\n",
       "      <td>2248.5441</td>\n",
       "      <td>-1245.7029</td>\n",
       "      <td>0.0000</td>\n",
       "      <td>0.0000</td>\n",
       "      <td>0.0000</td>\n",
       "      <td>cubic</td>\n",
       "    </tr>\n",
       "    <tr>\n",
       "      <th>age</th>\n",
       "      <td>0.1742</td>\n",
       "      <td>0.2737</td>\n",
       "      <td>-0.0072</td>\n",
       "      <td>0.0001</td>\n",
       "      <td>0.1427</td>\n",
       "      <td>0.0474</td>\n",
       "      <td>0.0067</td>\n",
       "      <td>cubic</td>\n",
       "    </tr>\n",
       "    <tr>\n",
       "      <th>dis</th>\n",
       "      <td>0.2778</td>\n",
       "      <td>-15.5544</td>\n",
       "      <td>2.4521</td>\n",
       "      <td>-0.1186</td>\n",
       "      <td>0.0000</td>\n",
       "      <td>0.0000</td>\n",
       "      <td>0.0000</td>\n",
       "      <td>cubic</td>\n",
       "    </tr>\n",
       "    <tr>\n",
       "      <th>ptratio</th>\n",
       "      <td>0.1138</td>\n",
       "      <td>-82.3605</td>\n",
       "      <td>4.6353</td>\n",
       "      <td>-0.0848</td>\n",
       "      <td>0.0030</td>\n",
       "      <td>0.0041</td>\n",
       "      <td>0.0063</td>\n",
       "      <td>cubic</td>\n",
       "    </tr>\n",
       "    <tr>\n",
       "      <th>medv</th>\n",
       "      <td>0.4202</td>\n",
       "      <td>-5.0948</td>\n",
       "      <td>0.1555</td>\n",
       "      <td>-0.0015</td>\n",
       "      <td>0.0000</td>\n",
       "      <td>0.0000</td>\n",
       "      <td>0.0000</td>\n",
       "      <td>cubic</td>\n",
       "    </tr>\n",
       "  </tbody>\n",
       "</table>\n",
       "</div>"
      ],
      "text/plain": [
       "            rsq     x_coef    x2_coef    x3_coef  x_pval  x2_pval  x3_pval  \\\n",
       "zn       0.0582    -0.3322     0.0065    -0.0000  0.0026   0.0938   0.2295   \n",
       "indus    0.2597    -1.9652     0.2519    -0.0070  0.0001   0.0000   0.0000   \n",
       "nox      0.2970 -1279.3713  2248.5441 -1245.7029  0.0000   0.0000   0.0000   \n",
       "age      0.1742     0.2737    -0.0072     0.0001  0.1427   0.0474   0.0067   \n",
       "dis      0.2778   -15.5544     2.4521    -0.1186  0.0000   0.0000   0.0000   \n",
       "ptratio  0.1138   -82.3605     4.6353    -0.0848  0.0030   0.0041   0.0063   \n",
       "medv     0.4202    -5.0948     0.1555    -0.0015  0.0000   0.0000   0.0000   \n",
       "\n",
       "        relationship  \n",
       "zn            linear  \n",
       "indus          cubic  \n",
       "nox            cubic  \n",
       "age            cubic  \n",
       "dis            cubic  \n",
       "ptratio        cubic  \n",
       "medv           cubic  "
      ]
     },
     "execution_count": 20,
     "metadata": {},
     "output_type": "execute_result"
    }
   ],
   "source": [
    "# Statistically significant predictors\n",
    "crim_plr_sig = crim_plr[crim_plr.relationship != '-']\n",
    "crim_plr_sig"
   ]
  },
  {
   "cell_type": "markdown",
   "metadata": {},
   "source": [
    "<div class=\"alert alert-block alert-info\">\n",
    "    Of the variables with a significant coefficient, zn has a linear relationship and the rest have a cubic relationship with crim.\n",
    "</div>"
   ]
  },
  {
   "cell_type": "markdown",
   "metadata": {},
   "source": [
    "### Plots"
   ]
  },
  {
   "cell_type": "code",
   "execution_count": 21,
   "metadata": {},
   "outputs": [
    {
     "data": {
      "image/png": "[encoded data removed]",
      "text/plain": [
       "<Figure size 1224x1008 with 7 Axes>"
      ]
     },
     "metadata": {},
     "output_type": "display_data"
    }
   ],
   "source": [
    "plt.figure(figsize=(17,14))\n",
    "for i,x in enumerate(crim_plr_sig.index):\n",
    "    plt.subplot(3, 3, i+1)\n",
    "    sns.scatterplot(x=x, y='crim', data=df)\n",
    "    if crim_plr_sig.loc[x, 'relationship'] == 'linear':\n",
    "        plt.plot(df[x], crim_slr_models[x].fittedvalues, lw=0.7, color='r')\n",
    "    elif crim_plr_sig.loc[x, 'relationship'] == 'cubic':\n",
    "        xcoord = np.linspace(min(df[x]), max(df[x]), 100)\n",
    "        ycoord = crim_plr_models[x].params[0] + xcoord*crim_plr_models[x].params[1] + \\\n",
    "        (xcoord**2)*crim_plr_models[x].params[2] + (xcoord**3)*crim_plr_models[x].params[3]\n",
    "        plt.plot(xcoord, ycoord, lw=0.7, color='r')\n",
    "    plt.title(x)\n",
    "    plt.xlabel('')\n",
    "plt.subplots_adjust(hspace=0.3, wspace=0.3)"
   ]
  },
  {
   "cell_type": "markdown",
   "metadata": {},
   "source": [
    "<div class=\"alert alert-block alert-info\">\n",
    "    medv's and nox's relationship with crim seems to have a very nice fit with their respictive cubic regression model lines.<br>\n",
    "    age and dis also have a good cubic fit with crim.\n",
    "</div>"
   ]
  },
  {
   "cell_type": "markdown",
   "metadata": {},
   "source": [
    "<div align=\"center\"><b>------------------------------------------------------------------------------------------------------------------------------------------------------------------------------------------------</b></div>"
   ]
  },
  {
   "cell_type": "markdown",
   "metadata": {},
   "source": [
    "### References\n",
    "\n",
    "https://www.kaggle.com/lmorgan95/islr-linear-regression-ch-3-solutions  \n",
    "https://botlnec.github.io/islp/sols/chapter3/exercise11/"
   ]
  },
  {
   "cell_type": "markdown",
   "metadata": {},
   "source": [
    "[go to toc](#index)"
   ]
  },
  {
   "cell_type": "markdown",
   "metadata": {},
   "source": [
    "<div align=\"center\"><b>-------------------------------------------- &ensp; <i>That's All Folks!</i> &ensp; --------------------------------------------</b></div>"
   ]
  }
 ],
 "metadata": {
  "kernelspec": {
   "display_name": "Python 3",
   "language": "python",
   "name": "python3"
  },
  "language_info": {
   "codemirror_mode": {
    "name": "ipython",
    "version": 3
   },
   "file_extension": ".py",
   "mimetype": "text/x-python",
   "name": "python",
   "nbconvert_exporter": "python",
   "pygments_lexer": "ipython3",
   "version": "3.8.5"
  },
  "toc": {
   "base_numbering": 1,
   "nav_menu": {},
   "number_sections": false,
   "sideBar": true,
   "skip_h1_title": true,
   "title_cell": "Table of Contents",
   "title_sidebar": "Contents",
   "toc_cell": false,
   "toc_position": {},
   "toc_section_display": true,
   "toc_window_display": true
  }
 },
 "nbformat": 4,
 "nbformat_minor": 4
}
