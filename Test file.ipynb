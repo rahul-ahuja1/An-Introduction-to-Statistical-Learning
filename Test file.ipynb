{
 "cells": [
  {
   "cell_type": "markdown",
   "metadata": {},
   "source": [
    "# Test file"
   ]
  },
  {
   "cell_type": "markdown",
   "metadata": {},
   "source": [
    "$$\n",
    "\\begin{align*} \\\\\n",
    "     RSS & = \\sum{(y - \\hat{y})^2} \\\\\n",
    "     & = \\sum{y^2 - 2y\\hat{y} + \\hat{y}^2} \\\\\n",
    "     & = \\sum{y^2 - 2y(\\hat\\beta_0 + \\hat\\beta_1 \\ x) + (\\hat\\beta_{0} + \\hat\\beta_1 \\ x)^2} && \\text{(substituting $\\hat{y}$ from above)} \\\\\n",
    "     & = \\sum{y^2 - 2\\hat\\beta_1 xy + \\hat\\beta_1^2 x^2} && \\text{($\\hat\\beta_0 = 0$)} \\\\\n",
    "     & = \\sum{y^2 - \\sum{2\\hat\\beta_1 xy} + \\sum{\\hat\\beta_1^2 x^2}} && \\text{(properties of summations)} \\\\\n",
    "     & = \\sum{y^2 - 2\\hat\\beta_1 \\sum{xy} + \\hat\\beta_1^2 \\sum{x^2}} && \\text{(taking constants outside - linearity property of summation)} \\\\\n",
    "     & = \\sum{y^2} - 2\\left(\\frac{\\sum{xy}}{\\sum{x^2}}\\right)\\sum{xy} + \\left(\\frac{\\sum{xy}}{\\sum{x^2}}\\right)^2\\sum{x^2} && \\text{(substituting $\\hat\\beta_1$ from above)} \\\\\n",
    "     & = \\sum{y^2} - 2\\frac{(\\sum{xy})^2}{\\sum{x^2}} + \\frac{(\\sum{xy})^2}{\\sum{x^2}} \\\\\n",
    "     & = \\frac{\\sum{x^2\\sum{y^2}} - (\\sum{xy})^2}{\\sum{x^2}}\n",
    "\\end{align*}\n",
    "$$"
   ]
  },
  {
   "cell_type": "markdown",
   "metadata": {},
   "source": [
    "$$\n",
    "\\begin{align*} \\\\\n",
    "     RSS & = \\sum{(y - \\hat{y})^2} \\\\\n",
    "     & = \\sum{y^2 - 2y\\hat{y} + \\hat{y}^2} \\\\\n",
    "     & = \\sum{y^2 - 2y(\\hat\\beta_0 + \\hat\\beta_1 \\ x) + (\\hat\\beta_{0} + \\hat\\beta_1 \\ x)^2} && \\text{(substituting } \\ \\hat{y} \\ \\text{ from above)} \\\\\n",
    "     & = \\sum{y^2 - 2\\hat\\beta_1 xy + \\hat\\beta_1^2 x^2} && (\\hat\\beta_0 = 0) \\\\\n",
    "     & = \\sum{y^2 - \\sum{2\\hat\\beta_1 xy} + \\sum{\\hat\\beta_1^2 x^2}} && \\text{(properties of summations)} \\\\\n",
    "     & = \\sum{y^2 - 2\\hat\\beta_1 \\sum{xy} + \\hat\\beta_1^2 \\sum{x^2}} && \\text{(taking constants outside - linearity property of summation)} \\\\\n",
    "     & = \\sum{y^2} - 2\\left(\\frac{\\sum{xy}}{\\sum{x^2}}\\right)\\sum{xy} + \\left(\\frac{\\sum{xy}}{\\sum{x^2}}\\right)^2\\sum{x^2} && \\text{(substituting } \\ \\hat\\beta_1 \\ \\text{ from above)} \\\\\n",
    "     & = \\sum{y^2} - 2\\frac{(\\sum{xy})^2}{\\sum{x^2}} + \\frac{(\\sum{xy})^2}{\\sum{x^2}} \\\\\n",
    "     & = \\frac{\\sum{x^2\\sum{y^2}} - (\\sum{xy})^2}{\\sum{x^2}}\n",
    "\\end{align*}\n",
    "$$"
   ]
  },
  {
   "cell_type": "code",
   "execution_count": null,
   "metadata": {},
   "outputs": [],
   "source": []
  },
  {
   "cell_type": "markdown",
   "metadata": {},
   "source": [
    "$$\\hat{f}(x_{0}) = \\underset{j}{\\text{argmax}}(P_{r}(Y = j | x = x_{0}))$$"
   ]
  },
  {
   "cell_type": "code",
   "execution_count": null,
   "metadata": {},
   "outputs": [],
   "source": []
  },
  {
   "cell_type": "code",
   "execution_count": null,
   "metadata": {},
   "outputs": [],
   "source": []
  },
  {
   "cell_type": "code",
   "execution_count": null,
   "metadata": {},
   "outputs": [],
   "source": []
  },
  {
   "cell_type": "code",
   "execution_count": null,
   "metadata": {},
   "outputs": [],
   "source": []
  }
 ],
 "metadata": {
  "kernelspec": {
   "display_name": "Python 3",
   "language": "python",
   "name": "python3"
  },
  "language_info": {
   "codemirror_mode": {
    "name": "ipython",
    "version": 3
   },
   "file_extension": ".py",
   "mimetype": "text/x-python",
   "name": "python",
   "nbconvert_exporter": "python",
   "pygments_lexer": "ipython3",
   "version": "3.8.5"
  },
  "toc": {
   "base_numbering": 1,
   "nav_menu": {},
   "number_sections": false,
   "sideBar": true,
   "skip_h1_title": true,
   "title_cell": "Table of Contents",
   "title_sidebar": "Contents",
   "toc_cell": false,
   "toc_position": {},
   "toc_section_display": true,
   "toc_window_display": false
  }
 },
 "nbformat": 4,
 "nbformat_minor": 4
}
